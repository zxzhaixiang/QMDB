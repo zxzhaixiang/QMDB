{
 "cells": [
  {
   "cell_type": "code",
   "execution_count": 1,
   "metadata": {},
   "outputs": [],
   "source": [
    "import numpy as np\n",
    "import pickle"
   ]
  },
  {
   "cell_type": "code",
   "execution_count": 5,
   "metadata": {},
   "outputs": [],
   "source": [
    "with open('./../data/processed_data/model_weights','rb') as f:\n",
    "    model_weights = pickle.load(f)"
   ]
  },
  {
   "cell_type": "code",
   "execution_count": 6,
   "metadata": {},
   "outputs": [],
   "source": [
    "def get_query_vector(query, model_weights):\n",
    "    kws = [kw.lower() for kw in query.split(' ')]\n",
    "    n = 0\n",
    "    res = np.zeros(64)\n",
    "    for kw in kws:\n",
    "        if kw in model_weights['kw_set']:\n",
    "            res+=model_weights['kw_embedding'][kw]\n",
    "            n+=1\n",
    "    if n==0:\n",
    "        return model_weights['kw_default_embedding']\n",
    "    else:\n",
    "        return res/n"
   ]
  },
  {
   "cell_type": "code",
   "execution_count": 7,
   "metadata": {},
   "outputs": [],
   "source": [
    "def get_genre_vector(genres, model_weights):\n",
    "    v = np.zeros((22,1))\n",
    "    for g in genres:\n",
    "        v[model_weights['genres_dict'][g]]=1\n",
    "    \n",
    "    return model_weights['genres_weight'].dot(v).squeeze(1)+model_weights['genres_bias']"
   ]
  },
  {
   "cell_type": "code",
   "execution_count": 8,
   "metadata": {},
   "outputs": [],
   "source": [
    "def compute_final_embedding(model_weights, query, user_embedding, genres, isWeekend, hr):\n",
    "    query_embedding = get_query_vector(query, model_weights)\n",
    "    genres_embedding = get_genre_vector(genres, model_weights)\n",
    "    \n",
    "    x = np.concatenate((user_embedding, query_embedding,genres_embedding,np.array([isWeekend,hr])))\n",
    "    \n",
    "    for fc in model_weights['fc']:\n",
    "        x = fc['weight'].dot(x)+fc['bias']\n",
    "        x = np.tanh(x)\n",
    "    return x"
   ]
  },
  {
   "cell_type": "code",
   "execution_count": 9,
   "metadata": {},
   "outputs": [],
   "source": [
    "if __name__=='main':\n",
    "    tmp=compute_final_embedding(model_weights, 'hello world', np.zeros(128),['western'], 1, 4)\n",
    "    print(tmp.shape)\n"
   ]
  },
  {
   "cell_type": "code",
   "execution_count": null,
   "metadata": {},
   "outputs": [],
   "source": []
  }
 ],
 "metadata": {
  "kernelspec": {
   "display_name": "Python 3",
   "language": "python",
   "name": "python3"
  },
  "language_info": {
   "codemirror_mode": {
    "name": "ipython",
    "version": 3
   },
   "file_extension": ".py",
   "mimetype": "text/x-python",
   "name": "python",
   "nbconvert_exporter": "python",
   "pygments_lexer": "ipython3",
   "version": "3.6.9"
  }
 },
 "nbformat": 4,
 "nbformat_minor": 2
}
