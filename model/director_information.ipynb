{
 "cells": [
  {
   "cell_type": "code",
   "execution_count": 1,
   "metadata": {},
   "outputs": [],
   "source": [
    "import pandas as pd\n",
    "import numpy as np\n",
    "from collections import Counter\n",
    "import json"
   ]
  },
  {
   "cell_type": "code",
   "execution_count": 2,
   "metadata": {},
   "outputs": [],
   "source": [
    "def kw_ctr(df, column, id_name):\n",
    "    cnt = Counter()\n",
    "    cc=0\n",
    "    pd_director = pd.DataFrame(columns=['row_number', 'movie_id', 'director_name'])\n",
    "    for index, row in enumerate(df[column]):\n",
    "        row = json.loads(row)\n",
    "        top_bill = 0\n",
    "        for keyword in row:\n",
    "#             top_bill = top_bill+1\n",
    "#             if top_bill<=3:\n",
    "            if (keyword[id_name] == \"Director\"):\n",
    "#                 print(keyword[id_name])\n",
    "#                 print(keyword[\"name\"])\n",
    "#                 df['Director'] = keyword[\"name\"]\n",
    "                cc = cc + 1\n",
    "                pd_director = pd_director.append({'row_number': index, 'movie_id': df['movie_id'][index], 'director_name': keyword[\"name\"]}, ignore_index=True)\n",
    "                break\n",
    "            cnt[keyword[id_name]] += 1\n",
    "    print('{} has {} unique keywords.'.format(column, len(cnt)))\n",
    "    print(cc)\n",
    "    pd_director.to_csv('director_names.csv', index=False)\n",
    "    return cnt"
   ]
  },
  {
   "cell_type": "code",
   "execution_count": 3,
   "metadata": {},
   "outputs": [
    {
     "data": {
      "text/plain": [
       "Index(['movie_id', 'title', 'cast', 'crew'], dtype='object')"
      ]
     },
     "execution_count": 3,
     "metadata": {},
     "output_type": "execute_result"
    }
   ],
   "source": [
    "tmdb_credits_df = pd.read_csv('../data/tmdb_5000/tmdb_5000_credits.csv')\n",
    "tmdb_credits_df.columns"
   ]
  },
  {
   "cell_type": "code",
   "execution_count": 4,
   "metadata": {},
   "outputs": [],
   "source": [
    "crew_id = tmdb_credits_df[\"crew\"]"
   ]
  },
  {
   "cell_type": "code",
   "execution_count": 5,
   "metadata": {},
   "outputs": [
    {
     "name": "stdout",
     "output_type": "stream",
     "text": [
      "0    [{\"credit_id\": \"52fe48009251416c750aca23\", \"de...\n",
      "1    [{\"credit_id\": \"52fe4232c3a36847f800b579\", \"de...\n",
      "2    [{\"credit_id\": \"54805967c3a36829b5002c41\", \"de...\n",
      "3    [{\"credit_id\": \"52fe4781c3a36847f81398c3\", \"de...\n",
      "4    [{\"credit_id\": \"52fe479ac3a36847f813eaa3\", \"de...\n",
      "5    [{\"credit_id\": \"52fe4252c3a36847f80151a5\", \"de...\n",
      "6    [{\"credit_id\": \"52fe46db9251416c91062101\", \"de...\n",
      "7    [{\"credit_id\": \"55d5f7d4c3a3683e7e0016eb\", \"de...\n",
      "8    [{\"credit_id\": \"52fe4273c3a36847f801fab1\", \"de...\n",
      "9    [{\"credit_id\": \"553bf23692514135c8002886\", \"de...\n",
      "Name: crew, dtype: object\n"
     ]
    }
   ],
   "source": [
    "print(crew_id[:10])"
   ]
  },
  {
   "cell_type": "code",
   "execution_count": 6,
   "metadata": {},
   "outputs": [
    {
     "name": "stdout",
     "output_type": "stream",
     "text": [
      "crew has 417 unique keywords.\n",
      "5166\n"
     ]
    }
   ],
   "source": [
    "\n",
    "genre_ct = pd.Series(kw_ctr(tmdb_credits_df, 'crew', 'job')) # 'id'"
   ]
  },
  {
   "cell_type": "code",
   "execution_count": null,
   "metadata": {},
   "outputs": [],
   "source": []
  }
 ],
 "metadata": {
  "kernelspec": {
   "display_name": "Python 3",
   "language": "python",
   "name": "python3"
  },
  "language_info": {
   "codemirror_mode": {
    "name": "ipython",
    "version": 3
   },
   "file_extension": ".py",
   "mimetype": "text/x-python",
   "name": "python",
   "nbconvert_exporter": "python",
   "pygments_lexer": "ipython3",
   "version": "3.6.8"
  }
 },
 "nbformat": 4,
 "nbformat_minor": 2
}
