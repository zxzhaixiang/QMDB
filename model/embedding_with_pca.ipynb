{
 "cells": [
  {
   "cell_type": "code",
   "execution_count": 5,
   "metadata": {},
   "outputs": [],
   "source": [
    "import pandas as pd\n",
    "import ast\n",
    "import re\n",
    "from gensim.models import Word2Vec, KeyedVectors\n",
    "import time\n",
    "import pickle\n",
    "import numpy as np\n",
    "from sklearn.decomposition import PCA"
   ]
  },
  {
   "cell_type": "code",
   "execution_count": 6,
   "metadata": {},
   "outputs": [],
   "source": [
    "# ratings=pd.read_csv('data/movielens_latest/ml-latest-lean/ratings.zip', compression='gzip')\n",
    "# tags=pd.read_csv('data/movielens_latest/ml-latest-lean/tags.csv')\n",
    "# movies=pd.read_csv('data/movielens_latest/ml-latest-lean/movies.csv')\n",
    "\n",
    "# movie_keywords=tags.groupby('movieId').apply(lambda x: x['tag'].tolist())\n",
    "movie0=pd.read_csv('../data/processed_data/movies_with_kws.csv')"
   ]
  },
  {
   "cell_type": "markdown",
   "metadata": {},
   "source": [
    "* import tags information"
   ]
  },
  {
   "cell_type": "code",
   "execution_count": 7,
   "metadata": {},
   "outputs": [],
   "source": [
    "tags_df = pd.read_csv('../data/movielens_latest/ml-latest-lean/tags.csv')\n",
    "tags_df = tags_df.groupby('movieId')['tag'].apply(lambda x: ' '.join(x)).reset_index()\n",
    "tags_df['tag'] = tags_df['tag'].apply(lambda x: x.lower().split(' '))"
   ]
  },
  {
   "cell_type": "markdown",
   "metadata": {},
   "source": [
    "* create keyword columns"
   ]
  },
  {
   "cell_type": "code",
   "execution_count": 8,
   "metadata": {},
   "outputs": [],
   "source": [
    "def parse_title(s):\n",
    "    return [a.lower() for a in re.split(' |, | ,|,|\\)|\\(',s.strip())]"
   ]
  },
  {
   "cell_type": "code",
   "execution_count": 9,
   "metadata": {},
   "outputs": [],
   "source": [
    "movie = pd.merge(movie0, tags_df, on='movieId', how='left')\n",
    "movie['description_kws'] = movie['description_kws'].apply(lambda x: ast.literal_eval(x)) # string to list conversion\n",
    "movie['cast_kws'] = movie['cast_kws'].apply(lambda x: ast.literal_eval(x)) # string to list conversion\n",
    "movie['genre_kws'] = movie['genre_kws'].apply(lambda x: ast.literal_eval(x)) # string to list conversion\n",
    "movie['title_kws'] = movie['title'].apply(parse_title)"
   ]
  },
  {
   "cell_type": "markdown",
   "metadata": {},
   "source": [
    "* clean up null tags"
   ]
  },
  {
   "cell_type": "code",
   "execution_count": 10,
   "metadata": {},
   "outputs": [],
   "source": [
    "for row in movie.loc[movie['tag'].isnull(), 'tag'].index:\n",
    "    movie.at[row, 'tag'] = []"
   ]
  },
  {
   "cell_type": "markdown",
   "metadata": {},
   "source": [
    "* combine all keywords into one string"
   ]
  },
  {
   "cell_type": "code",
   "execution_count": 11,
   "metadata": {},
   "outputs": [],
   "source": [
    "kws_all = []\n",
    "for l1, l2, l3, l4 in movie[['description_kws','cast_kws','tag','title_kws']].values:\n",
    "    kws_all.append(l1+l2+l3+l4)\n",
    "\n",
    "movie['kws_all'] = kws_all\n",
    "movie['kws_all'] = movie['kws_all'].apply(lambda x: ' '.join(list(set(x)))) # back to string\n",
    "movie['kws_all'] = movie['kws_all'].apply(lambda x: x.lower()) # lower case for names\n",
    "corpus =[re.findall(r'(?u)\\b\\w+\\b',x) for x in movie['kws_all']] # some character cleanup"
   ]
  },
  {
   "cell_type": "markdown",
   "metadata": {},
   "source": [
    "* word2vec"
   ]
  },
  {
   "cell_type": "code",
   "execution_count": 12,
   "metadata": {},
   "outputs": [],
   "source": [
    "workdir='C:\\\\Users\\\\rohan.thavarajah\\\\Downloads\\\\'\n",
    "t0=time.time()\n",
    "model=  Word2Vec(size=300, min_count=1)"
   ]
  },
  {
   "cell_type": "code",
   "execution_count": 13,
   "metadata": {},
   "outputs": [
    {
     "name": "stdout",
     "output_type": "stream",
     "text": [
      "total key words 21403\n"
     ]
    }
   ],
   "source": [
    "model.build_vocab(corpus)\n",
    "print('total key words',len(model.wv.vocab))"
   ]
  },
  {
   "cell_type": "code",
   "execution_count": 14,
   "metadata": {},
   "outputs": [
    {
     "name": "stdout",
     "output_type": "stream",
     "text": [
      "41.7380907535553\n",
      "total key words with vectors 21403\n"
     ]
    }
   ],
   "source": [
    "model.intersect_word2vec_format(\n",
    "        workdir+'GoogleNews-vectors-negative300.bin', binary=True, lockf=1.0)\n",
    "print(time.time()-t0)\n",
    "vocab=model.wv.vocab\n",
    "print('total key words with vectors',len(model.wv.vocab))\n",
    "# model.wv.save('data/processed_data/kw_vectors.kv')\n",
    "# to load the vectors\n",
    "# wv = KeyedVectors.load('data/processed_data/kw_vectors.kv', mmap='r')"
   ]
  },
  {
   "cell_type": "code",
   "execution_count": 15,
   "metadata": {},
   "outputs": [],
   "source": [
    "wv = model.wv"
   ]
  },
  {
   "cell_type": "code",
   "execution_count": 16,
   "metadata": {},
   "outputs": [
    {
     "data": {
      "text/plain": [
       "[('comedies', 0.7952671647071838),\n",
       " ('comedic', 0.7497517466545105),\n",
       " ('sitcom', 0.7363550066947937),\n",
       " ('dramedy', 0.7125568389892578),\n",
       " ('comic', 0.6860707998275757),\n",
       " ('satire', 0.662791907787323),\n",
       " ('comedian', 0.6516796946525574),\n",
       " ('slapstick', 0.6389349102973938),\n",
       " ('mockumentary', 0.6205418109893799),\n",
       " ('comedians', 0.6155717372894287)]"
      ]
     },
     "execution_count": 16,
     "metadata": {},
     "output_type": "execute_result"
    }
   ],
   "source": [
    "wv.similar_by_word('comedy')"
   ]
  },
  {
   "cell_type": "markdown",
   "metadata": {},
   "source": [
    "* pca"
   ]
  },
  {
   "cell_type": "code",
   "execution_count": 17,
   "metadata": {},
   "outputs": [],
   "source": [
    "pca = PCA(n_components=64)\n",
    "pca_out = pca.fit_transform(wv.vectors)"
   ]
  },
  {
   "cell_type": "markdown",
   "metadata": {},
   "source": [
    "* prepare dataframe of words and embedding"
   ]
  },
  {
   "cell_type": "code",
   "execution_count": 18,
   "metadata": {},
   "outputs": [],
   "source": [
    "# asdf = vocab['again']\n",
    "# asdf.index\n",
    "# wv.vectors[470][:5]\n",
    "# wv.get_vector('again')[:5]"
   ]
  },
  {
   "cell_type": "code",
   "execution_count": 19,
   "metadata": {},
   "outputs": [],
   "source": [
    "output = {}\n",
    "for key in vocab:\n",
    "    output[key] = pca_out[vocab[key].index]"
   ]
  },
  {
   "cell_type": "code",
   "execution_count": 20,
   "metadata": {},
   "outputs": [],
   "source": [
    "with open('keyword_embedding.pkl', 'wb') as dumpMe:\n",
    "    pickle.dump(output, dumpMe)"
   ]
  },
  {
   "cell_type": "code",
   "execution_count": 23,
   "metadata": {},
   "outputs": [],
   "source": [
    "movie[['title','movieId','qmdbId','tmdbId','year','genre_kws','kws_all']].to_csv('../data/processed_data/keywords_all.csv')"
   ]
  },
  {
   "cell_type": "code",
   "execution_count": null,
   "metadata": {},
   "outputs": [],
   "source": []
  },
  {
   "cell_type": "code",
   "execution_count": null,
   "metadata": {},
   "outputs": [],
   "source": []
  },
  {
   "cell_type": "code",
   "execution_count": null,
   "metadata": {},
   "outputs": [],
   "source": []
  }
 ],
 "metadata": {
  "kernelspec": {
   "display_name": "qmdb",
   "language": "python",
   "name": "qmdb"
  },
  "language_info": {
   "codemirror_mode": {
    "name": "ipython",
    "version": 3
   },
   "file_extension": ".py",
   "mimetype": "text/x-python",
   "name": "python",
   "nbconvert_exporter": "python",
   "pygments_lexer": "ipython3",
   "version": "3.6.6"
  }
 },
 "nbformat": 4,
 "nbformat_minor": 2
}
