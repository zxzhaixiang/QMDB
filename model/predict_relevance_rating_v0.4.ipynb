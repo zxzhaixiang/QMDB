{
 "cells": [
  {
   "cell_type": "code",
   "execution_count": 21,
   "metadata": {},
   "outputs": [],
   "source": [
    "import numpy as np\n",
    "import pickle"
   ]
  },
  {
   "cell_type": "code",
   "execution_count": 22,
   "metadata": {},
   "outputs": [],
   "source": [
    "def get_query_vector(query, model_weights):\n",
    "    kws = [kw.lower() for kw in query.split(' ')]\n",
    "    n = 0\n",
    "    res = np.zeros(64)\n",
    "    for kw in kws:\n",
    "        if kw in model_weights['kw_set']:\n",
    "            print(kw)\n",
    "            res+=model_weights['kw_embedding'][kw]\n",
    "            n+=1\n",
    "    if n==0:\n",
    "        return model_weights['kw_default_embedding']\n",
    "    else:\n",
    "        return res/n\n",
    "\n",
    "def get_genre_vector(genres, model_weights):\n",
    "    v = np.zeros((22,1))\n",
    "    for g in genres:\n",
    "        if g in model_weights['genres_dict']:\n",
    "            v[model_weights['genres_dict'][g]]=1\n",
    "    \n",
    "    return model_weights['genres_weight'].dot(v).squeeze(1)+model_weights['genres_bias']"
   ]
  },
  {
   "cell_type": "code",
   "execution_count": 23,
   "metadata": {},
   "outputs": [],
   "source": [
    "def predict(model_weights, query, user_embedding, genres):\n",
    "\n",
    "    query_embedding = get_query_vector(query, model_weights)\n",
    "    genres_embedding = get_genre_vector(genres_q, model_weights)\n",
    "\n",
    "    final_query_em = user_embedding + genres_embedding + query_embedding\n",
    "\n",
    "    nM = model_weights['movie_embedding'].shape[0]\n",
    "    relevance_em = np.concatenate((model_weights['movie_embedding'], genres_embedding.reshape(1,64).repeat(nM,axis=0), query_embedding.reshape(1,64).repeat(nM,axis=0)),axis=1)\n",
    "\n",
    "    for i, fc in enumerate(model_weights['fc_relevance']):\n",
    "        relevance_em = relevance_em.dot(fc['weight'].T)+fc['bias']\n",
    "        if i<len(model_weights['fc_relevance'])-1:\n",
    "            relevance_em = np.tanh(relevance_em)\n",
    "        else:\n",
    "            relevance_em = 1. / (1. + np.exp(-relevance_em))\n",
    "\n",
    "    relevance_score = relevance_em.squeeze(axis=1)\n",
    "    \n",
    "    rating_score = final_query_em.dot(model_weights['movie_embedding'].T)\n",
    "    \n",
    "    return relevance_score, rating_score"
   ]
  },
  {
   "cell_type": "code",
   "execution_count": 24,
   "metadata": {},
   "outputs": [
    {
     "name": "stdout",
     "output_type": "stream",
     "text": [
      "toy\n",
      "story\n",
      "[3039, 2619, 3462, 3146, 2708, 1650, 3803, 2450, 2445, 1821, 3305, 2027, 2888, 3142, 2290, 929, 2279, 1742, 1390, 2722, 159, 2345, 1460, 3478, 1118, 2249, 3220, 2906, 82, 164, 1035, 160, 2606, 613, 1249, 2928, 1954, 444, 2373, 2270, 3289, 2971, 3402, 2828, 3804, 650, 2847, 3847, 2383, 3119, 856, 1002, 203, 2882, 722, 996, 353, 3380, 1507, 2674, 3759, 990, 3486, 3288, 1570, 765, 1734, 815, 1053, 3004, 2372, 1658, 1412, 2066, 1464, 1867, 2396, 3643, 3357, 791, 897, 1200, 3360, 1212, 1465, 1480, 315, 892, 3418, 1740, 3113, 2305, 962, 2210, 174, 699, 772, 380, 2942, 700]\n"
     ]
    }
   ],
   "source": [
    "if __name__=='__main__':\n",
    "    \n",
    "    with open('./../data/processed_data/model_weights_v04','rb') as f:\n",
    "        model_weights = pickle.load(f)\n",
    "    \n",
    "    query = 'toy story'\n",
    "    genres_q = ['family','animation']\n",
    "    \n",
    "    rel, rat = predict(model_weights, query, model_weights['ave_user_embedding'], genres_q)\n",
    "    \n",
    "    ind_rel = np.argsort(rel)[::-1][:100]\n",
    "    ind = [ind_rel[i] for i in np.argsort(rat[ind_rel])[::-1]]\n",
    "\n",
    "    print(ind)\n"
   ]
  },
  {
   "cell_type": "code",
   "execution_count": null,
   "metadata": {},
   "outputs": [],
   "source": []
  }
 ],
 "metadata": {
  "kernelspec": {
   "display_name": "Python 3",
   "language": "python",
   "name": "python3"
  },
  "language_info": {
   "codemirror_mode": {
    "name": "ipython",
    "version": 3
   },
   "file_extension": ".py",
   "mimetype": "text/x-python",
   "name": "python",
   "nbconvert_exporter": "python",
   "pygments_lexer": "ipython3",
   "version": "3.6.9"
  }
 },
 "nbformat": 4,
 "nbformat_minor": 2
}
