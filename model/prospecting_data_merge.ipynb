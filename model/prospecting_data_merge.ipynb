{
 "cells": [
  {
   "cell_type": "code",
   "execution_count": 141,
   "metadata": {},
   "outputs": [],
   "source": [
    "import pandas as pd\n",
    "import matplotlib.pyplot as plt\n",
    "from collections import Counter\n",
    "import numpy as np"
   ]
  },
  {
   "cell_type": "markdown",
   "metadata": {},
   "source": [
    "* read_csvs"
   ]
  },
  {
   "cell_type": "code",
   "execution_count": 3,
   "metadata": {},
   "outputs": [],
   "source": [
    "movies_df = pd.read_csv('../data/movielens_latest/ml-latest-lean/movies.csv')\n",
    "ratings_df = pd.read_csv('../data/movielens_latest/ml-latest-lean/ratings.csv', compression='gzip') #\n",
    "links_df = pd.read_csv('../data/movielens_latest/ml-latest-lean/links.csv') # \n",
    "tmdb_movies_df = pd.read_csv('../data/tmdb_5000/tmdb_5000_movies.csv') # \n",
    "tmdb_credits_df = pd.read_csv('../data/tmdb_5000/tmdb_5000_credits.csv')"
   ]
  },
  {
   "cell_type": "markdown",
   "metadata": {},
   "source": [
    "* get ids to link other datasets"
   ]
  },
  {
   "cell_type": "code",
   "execution_count": 4,
   "metadata": {},
   "outputs": [],
   "source": [
    "# df1 = pd.merge(ratings_df, links_df, on='movieId', how='inner')\n",
    "# assert ratings_df.shape[0]==df1.shape[0]"
   ]
  },
  {
   "cell_type": "markdown",
   "metadata": {},
   "source": [
    "* merge ratings with tmdb"
   ]
  },
  {
   "cell_type": "code",
   "execution_count": 5,
   "metadata": {},
   "outputs": [],
   "source": [
    "# df1 = df1.loc[df1['tmdbId'].notnull(), :]\n",
    "# df1['tmdbId'] = df1['tmdbId'].astype(int)\n",
    "# df2 = pd.merge(df1, tmdb_movies_df, left_on='tmdbId', right_on='id', how='inner')"
   ]
  },
  {
   "cell_type": "code",
   "execution_count": 6,
   "metadata": {},
   "outputs": [],
   "source": [
    "# print('Of the total {} ratings we have tmdb information on {} ({:.1f}%).'.format(df1.shape[0], df2.shape[0], 100*df2.shape[0]/df1.shape[0]))\n",
    "# print('Of the total {} movies we have tmdb information on {} ({:.1f}%).'.format(len(df1['movieId'].unique()), len(df2['movieId'].unique()), 100*len(df2['movieId'].unique())/len(df1['movieId'].unique())))"
   ]
  },
  {
   "cell_type": "markdown",
   "metadata": {},
   "source": [
    "* merge movies with tmdb"
   ]
  },
  {
   "cell_type": "code",
   "execution_count": 7,
   "metadata": {},
   "outputs": [],
   "source": [
    "df1 = pd.merge(movies_df, links_df, on='movieId', how='inner')\n",
    "assert movies_df.shape[0]==df1.shape[0]"
   ]
  },
  {
   "cell_type": "code",
   "execution_count": 8,
   "metadata": {},
   "outputs": [],
   "source": [
    "df1 = df1.loc[df1['tmdbId'].notnull(), :]\n",
    "df1['tmdbId'] = df1['tmdbId'].astype(int)\n",
    "df2 = pd.merge(df1, tmdb_movies_df, left_on='tmdbId', right_on='id', how='inner')"
   ]
  },
  {
   "cell_type": "code",
   "execution_count": 9,
   "metadata": {},
   "outputs": [
    {
     "name": "stdout",
     "output_type": "stream",
     "text": [
      "Of the total 10708 movies we have tmdb information on 3868 (36.1%).\n"
     ]
    }
   ],
   "source": [
    "print('Of the total {} movies we have tmdb information on {} ({:.1f}%).'.format(df1.shape[0], df2.shape[0], 100*df2.shape[0]/df1.shape[0]))"
   ]
  },
  {
   "cell_type": "markdown",
   "metadata": {},
   "source": [
    "* merge in credits (cast etc)"
   ]
  },
  {
   "cell_type": "code",
   "execution_count": 12,
   "metadata": {},
   "outputs": [],
   "source": [
    "df3 = pd.merge(df2, tmdb_credits_df, left_on='tmdbId', right_on='movie_id', how='inner')\n",
    "assert df2.shape[0]==df3.shape[0]"
   ]
  },
  {
   "cell_type": "markdown",
   "metadata": {},
   "source": [
    "* count occurence of each keyword"
   ]
  },
  {
   "cell_type": "code",
   "execution_count": 81,
   "metadata": {},
   "outputs": [
    {
     "data": {
      "text/plain": [
       "Index(['movieId', 'title_x', 'genres_x', 'imdbId', 'tmdbId', 'budget',\n",
       "       'genres_y', 'homepage', 'id', 'keywords', 'original_language',\n",
       "       'original_title', 'overview', 'popularity', 'production_companies',\n",
       "       'production_countries', 'release_date', 'revenue', 'runtime',\n",
       "       'spoken_languages', 'status', 'tagline', 'title_y', 'vote_average',\n",
       "       'vote_count', 'movie_id', 'title', 'cast', 'crew'],\n",
       "      dtype='object')"
      ]
     },
     "execution_count": 81,
     "metadata": {},
     "output_type": "execute_result"
    }
   ],
   "source": [
    "df3.columns"
   ]
  },
  {
   "cell_type": "markdown",
   "metadata": {},
   "source": [
    "* genres_y, keywords, spoken_languages, production_countries, subset_crew, check_cast_id=actor_id"
   ]
  },
  {
   "cell_type": "code",
   "execution_count": 85,
   "metadata": {},
   "outputs": [],
   "source": [
    "def kw_ctr(df, column, id_name):\n",
    "    cnt = Counter()\n",
    "    for row in df[column]:\n",
    "        row = json.loads(row)\n",
    "        for keyword in row:\n",
    "            cnt[keyword[id_name]] += 1\n",
    "    print('{} has {} unique keywords.'.format(column, len(cnt)))\n",
    "    return cnt"
   ]
  },
  {
   "cell_type": "code",
   "execution_count": 203,
   "metadata": {},
   "outputs": [],
   "source": [
    "def kw_ctr(df, column, id_name):\n",
    "    cnt = Counter()\n",
    "    for row in df[column]:\n",
    "        row = json.loads(row)\n",
    "        top_bill = 0\n",
    "        for keyword in row:\n",
    "            top_bill = top_bill+1\n",
    "            if top_bill<=3:\n",
    "                cnt[keyword[id_name]] += 1\n",
    "    print('{} has {} unique keywords.'.format(column, len(cnt)))\n",
    "    return cnt"
   ]
  },
  {
   "cell_type": "markdown",
   "metadata": {},
   "source": [
    "* genre keywords"
   ]
  },
  {
   "cell_type": "code",
   "execution_count": 125,
   "metadata": {},
   "outputs": [
    {
     "name": "stdout",
     "output_type": "stream",
     "text": [
      "genres_y has 20 unique keywords.\n"
     ]
    },
    {
     "data": {
      "text/plain": [
       "<matplotlib.axes._subplots.AxesSubplot at 0x1e7194ab048>"
      ]
     },
     "execution_count": 125,
     "metadata": {},
     "output_type": "execute_result"
    },
    {
     "data": {
      "image/png": "[encoded data removed]",
      "text/plain": [
       "<Figure size 432x288 with 1 Axes>"
      ]
     },
     "metadata": {
      "needs_background": "light"
     },
     "output_type": "display_data"
    }
   ],
   "source": [
    "genre_ct = pd.Series(kw_ctr(df3, 'genres_y', 'name')) # 'id'\n",
    "genre_ct.sort_values().plot(kind='barh', color='blue')"
   ]
  },
  {
   "cell_type": "markdown",
   "metadata": {},
   "source": [
    "* description keywords"
   ]
  },
  {
   "cell_type": "code",
   "execution_count": 126,
   "metadata": {},
   "outputs": [
    {
     "name": "stdout",
     "output_type": "stream",
     "text": [
      "keywords has 9393 unique keywords.\n"
     ]
    }
   ],
   "source": [
    "keywords_ct = pd.Series(kw_ctr(df3, 'keywords', 'id'))"
   ]
  },
  {
   "cell_type": "code",
   "execution_count": 149,
   "metadata": {},
   "outputs": [
    {
     "data": {
      "text/plain": [
       "<matplotlib.axes._subplots.AxesSubplot at 0x1e7199600b8>"
      ]
     },
     "execution_count": 149,
     "metadata": {},
     "output_type": "execute_result"
    },
    {
     "data": {
      "image/png": "[encoded data removed]",
      "text/plain": [
       "<Figure size 432x288 with 1 Axes>"
      ]
     },
     "metadata": {
      "needs_background": "light"
     },
     "output_type": "display_data"
    }
   ],
   "source": [
    "keywords_ct.plot(kind='hist', bins=30)"
   ]
  },
  {
   "cell_type": "code",
   "execution_count": 146,
   "metadata": {},
   "outputs": [
    {
     "name": "stdout",
     "output_type": "stream",
     "text": [
      "keywords that appear for 5 or more movies 1602/9393 (17.1%)\n"
     ]
    }
   ],
   "source": [
    "print('keywords that appear for 5 or more movies {}/{} ({:.1f}%)'.format(\n",
    "    np.sum(keywords_ct>=5),\n",
    "    len(keywords_ct),\n",
    "    100*np.sum(keywords_ct>=5)/len(keywords_ct),\n",
    ")) "
   ]
  },
  {
   "cell_type": "markdown",
   "metadata": {},
   "source": [
    "* 10 most common words"
   ]
  },
  {
   "cell_type": "code",
   "execution_count": 211,
   "metadata": {},
   "outputs": [
    {
     "name": "stdout",
     "output_type": "stream",
     "text": [
      "keywords has 3099 unique keywords.\n"
     ]
    },
    {
     "data": {
      "text/plain": [
       "based on novel                  156\n",
       "independent film                105\n",
       "sex                              88\n",
       "new york                         85\n",
       "prison                           66\n",
       "london england                   65\n",
       "musical                          62\n",
       "sport                            61\n",
       "father son relationship          59\n",
       "dystopia                         59\n",
       "biography                        53\n",
       "suicide                          52\n",
       "corruption                       50\n",
       "duringcreditsstinger             49\n",
       "paris                            45\n",
       "woman director                   44\n",
       "brother brother relationship     44\n",
       "female nudity                    41\n",
       "gay                              41\n",
       "cia                              40\n",
       "martial arts                     39\n",
       "magic                            39\n",
       "witch                            38\n",
       "prostitute                       37\n",
       "hotel                            35\n",
       "england                          35\n",
       "world war ii                     35\n",
       "monster                          35\n",
       "journalist                       34\n",
       "sequel                           34\n",
       "                               ... \n",
       "aftercreditsstinger              22\n",
       "undercover                       22\n",
       "mutant                           22\n",
       "love of one's life               21\n",
       "dc comics                        21\n",
       "chicago                          21\n",
       "suspense                         21\n",
       "terrorist                        20\n",
       "terror                           20\n",
       "japan                            19\n",
       "time travel                      19\n",
       "american football                19\n",
       "san francisco                    19\n",
       "post-apocalyptic                 19\n",
       "future                           19\n",
       "hero                             19\n",
       "obsession                        19\n",
       "gun                              19\n",
       "secret identity                  19\n",
       "individual                       18\n",
       "underdog                         18\n",
       "beach                            18\n",
       "dying and death                  18\n",
       "assassination                    18\n",
       "fire                             18\n",
       "texas                            18\n",
       "baby                             18\n",
       "island                           18\n",
       "baseball                         17\n",
       "casino                           17\n",
       "Length: 100, dtype: int64"
      ]
     },
     "execution_count": 211,
     "metadata": {},
     "output_type": "execute_result"
    }
   ],
   "source": [
    "keywords_ct = pd.Series(kw_ctr(df3, 'keywords', 'name'))\n",
    "keywords_ct.sort_values(ascending=False)[:100]"
   ]
  },
  {
   "cell_type": "code",
   "execution_count": 163,
   "metadata": {},
   "outputs": [
    {
     "name": "stdout",
     "output_type": "stream",
     "text": [
      "words that appear in 5 or more movie descriptions 1602/9393 (17.1%)\n"
     ]
    }
   ],
   "source": [
    "print('words that appear in 5 or more movie descriptions {}/{} ({:.1f}%)'.format(\n",
    "    np.sum(keywords_ct>=5),\n",
    "    len(keywords_ct),\n",
    "    100*np.sum(keywords_ct>=5)/len(keywords_ct),\n",
    ")) "
   ]
  },
  {
   "cell_type": "markdown",
   "metadata": {},
   "source": [
    "* actor keywords"
   ]
  },
  {
   "cell_type": "code",
   "execution_count": 204,
   "metadata": {},
   "outputs": [
    {
     "name": "stdout",
     "output_type": "stream",
     "text": [
      "cast has 4224 unique keywords.\n"
     ]
    }
   ],
   "source": [
    "actor_ct = pd.Series(kw_ctr(df3, 'cast', 'id'))"
   ]
  },
  {
   "cell_type": "code",
   "execution_count": 205,
   "metadata": {},
   "outputs": [
    {
     "data": {
      "text/plain": [
       "<matplotlib.axes._subplots.AxesSubplot at 0x1e71d7f6a58>"
      ]
     },
     "execution_count": 205,
     "metadata": {},
     "output_type": "execute_result"
    },
    {
     "data": {
      "image/png": "[encoded data removed]",
      "text/plain": [
       "<Figure size 432x288 with 1 Axes>"
      ]
     },
     "metadata": {
      "needs_background": "light"
     },
     "output_type": "display_data"
    }
   ],
   "source": [
    "actor_ct.plot(kind='hist', bins=30)"
   ]
  },
  {
   "cell_type": "markdown",
   "metadata": {},
   "source": [
    "* 10 most prolific actors"
   ]
  },
  {
   "cell_type": "code",
   "execution_count": 206,
   "metadata": {},
   "outputs": [
    {
     "name": "stdout",
     "output_type": "stream",
     "text": [
      "cast has 4223 unique keywords.\n"
     ]
    },
    {
     "data": {
      "text/plain": [
       "Robert De Niro       44\n",
       "Matt Damon           35\n",
       "Bruce Willis         34\n",
       "Nicolas Cage         33\n",
       "Samuel L. Jackson    32\n",
       "Johnny Depp          32\n",
       "Tom Hanks            29\n",
       "Denzel Washington    29\n",
       "Ben Stiller          28\n",
       "Mark Wahlberg        28\n",
       "Brad Pitt            28\n",
       "Morgan Freeman       28\n",
       "Julia Roberts        28\n",
       "Eddie Murphy         28\n",
       "Tom Cruise           28\n",
       "George Clooney       27\n",
       "Harrison Ford        27\n",
       "Ewan McGregor        26\n",
       "Cameron Diaz         26\n",
       "Will Ferrell         26\n",
       "dtype: int64"
      ]
     },
     "execution_count": 206,
     "metadata": {},
     "output_type": "execute_result"
    }
   ],
   "source": [
    "actor_ct = pd.Series(kw_ctr(df3, 'cast', 'name'))\n",
    "actor_ct.sort_values(ascending=False)[:20]"
   ]
  },
  {
   "cell_type": "code",
   "execution_count": 207,
   "metadata": {},
   "outputs": [
    {
     "name": "stdout",
     "output_type": "stream",
     "text": [
      "actors that appear in 5 or more movies 607/4223 (14.4%)\n"
     ]
    }
   ],
   "source": [
    "print('actors that appear in 5 or more movies {}/{} ({:.1f}%)'.format(\n",
    "    np.sum(actor_ct>=5),\n",
    "    len(actor_ct),\n",
    "    100*np.sum(actor_ct>=5)/len(actor_ct),\n",
    ")) "
   ]
  },
  {
   "cell_type": "markdown",
   "metadata": {},
   "source": [
    "* get director"
   ]
  },
  {
   "cell_type": "code",
   "execution_count": 217,
   "metadata": {},
   "outputs": [],
   "source": [
    "def kw_ctr_director(df, column, id_name):\n",
    "    cnt = Counter()\n",
    "    for row in df[column]:\n",
    "        row = json.loads(row)\n",
    "        director_entry = [credit for credit in row if credit['job']=='Director'][0]\n",
    "        print(director_entry)\n",
    "        cnt[director_entry[id_name]] += 1\n",
    "    print('{} has {} unique keywords.'.format(column, len(cnt)))\n",
    "    return cnt"
   ]
  },
  {
   "cell_type": "code",
   "execution_count": 218,
   "metadata": {},
   "outputs": [
    {
     "name": "stdout",
     "output_type": "stream",
     "text": [
      "{'credit_id': '52fe4284c3a36847f8024f49', 'department': 'Directing', 'gender': 2, 'id': 7879, 'job': 'Director', 'name': 'John Lasseter'}\n",
      "{'credit_id': '52fe426ec3a36847f801e14b', 'department': 'Directing', 'gender': 2, 'id': 10702, 'job': 'Director', 'name': 'Martin Campbell'}\n",
      "{'credit_id': '52fe44dac3a36847f80adf8b', 'department': 'Directing', 'gender': 2, 'id': 3026, 'job': 'Director', 'name': 'Rob Reiner'}\n",
      "{'credit_id': '52fe43c59251416c7501d6f3', 'department': 'Directing', 'gender': 2, 'id': 1152, 'job': 'Director', 'name': 'Oliver Stone'}\n",
      "{'credit_id': '52fe42f4c3a36847f802f681', 'department': 'Directing', 'gender': 2, 'id': 16938, 'job': 'Director', 'name': 'Renny Harlin'}\n",
      "{'credit_id': '52fe424dc3a36847f80139cd', 'department': 'Directing', 'gender': 2, 'id': 1032, 'job': 'Director', 'name': 'Martin Scorsese'}\n",
      "{'credit_id': '52fe43cec3a36847f807101f', 'department': 'Directing', 'gender': 2, 'id': 1614, 'job': 'Director', 'name': 'Ang Lee'}\n",
      "{'credit_id': '52fe420dc3a36847f800012d', 'department': 'Directing', 'gender': 1, 'id': 3110, 'job': 'Director', 'name': 'Allison Anders'}\n",
      "{'credit_id': '52fe44dfc3a36847f80af28b', 'department': 'Directing', 'gender': 2, 'id': 4489, 'job': 'Director', 'name': 'Steve Oedekerk'}\n",
      "{'credit_id': '52fe44509251416c750305a1', 'department': 'Directing', 'gender': 2, 'id': 52629, 'job': 'Director', 'name': 'Joseph Ruben'}\n",
      "{'credit_id': '52fe448dc3a36847f809c729', 'department': 'Directing', 'gender': 2, 'id': 5174, 'job': 'Director', 'name': 'Barry Sonnenfeld'}\n",
      "{'credit_id': '52fe430ec3a36847f8037233', 'department': 'Directing', 'gender': 2, 'id': 15148, 'job': 'Director', 'name': 'Jon Amiel'}\n",
      "{'credit_id': '52fe451cc3a36847f80bd145', 'department': 'Directing', 'gender': 2, 'id': 7187, 'job': 'Director', 'name': 'Richard Donner'}\n",
      "{'credit_id': '52fe4245c3a36847f80111a5', 'department': 'Directing', 'gender': 2, 'id': 6111, 'job': 'Director', 'name': 'Mike Figgis'}\n",
      "{'credit_id': '52fe450fc3a36847f80b9fc7', 'department': 'Directing', 'gender': 2, 'id': 58137, 'job': 'Director', 'name': 'Chris Noonan'}\n",
      "{'credit_id': '52fe426ac3a36847f801ceed', 'department': 'Directing', 'gender': 2, 'id': 504, 'job': 'Director', 'name': 'Tim Robbins'}\n",
      "{'credit_id': '52fe4510c3a36847f80ba261', 'department': 'Directing', 'gender': 1, 'id': 57434, 'job': 'Director', 'name': 'Amy Heckerling'}\n",
      "{'credit_id': '52fe44669251416c9100f5a3', 'department': 'Directing', 'gender': 2, 'id': 33315, 'job': 'Director', 'name': 'Richard Loncraine'}\n",
      "{'credit_id': '52fe44e6c3a36847f80b0899', 'department': 'Directing', 'gender': 2, 'id': 4014, 'job': 'Director', 'name': 'Paul W.S. Anderson'}\n",
      "{'credit_id': '52fe4255c3a36847f8015f49', 'department': 'Directing', 'gender': 2, 'id': 5216, 'job': 'Director', 'name': 'Gus Van Sant'}\n",
      "{'credit_id': '52fe4279c3a36847f80217bf', 'department': 'Directing', 'gender': 2, 'id': 7467, 'job': 'Director', 'name': 'David Fincher'}\n",
      "{'credit_id': '52fe43819251416c75013075', 'department': 'Directing', 'gender': 2, 'id': 65530, 'job': 'Director', 'name': 'Mike Gabriel'}\n",
      "{'credit_id': '52fe4260c3a36847f8019a7d', 'department': 'Directing', 'gender': 2, 'id': 9032, 'job': 'Director', 'name': 'Bryan Singer'}\n",
      "{'credit_id': '52fe44dac3a36847f80ae00b', 'department': 'Directing', 'gender': 1, 'id': 1038, 'job': 'Director', 'name': 'Jodie Foster'}\n",
      "{'credit_id': '52fe44309251416c7502bdc7', 'department': 'Directing', 'gender': 2, 'id': 7908, 'job': 'Director', 'name': 'Frank Oz'}\n",
      "{'credit_id': '52fe470d9251416c7508c48b', 'department': 'Directing', 'gender': 2, 'id': 19304, 'job': 'Director', 'name': 'John Schlesinger'}\n",
      "{'credit_id': '52fe4330c3a36847f804111d', 'department': 'Directing', 'gender': 2, 'id': 18356, 'job': 'Director', 'name': 'Stephen Herek'}\n",
      "{'credit_id': '52fe43999251416c75016ad5', 'department': 'Directing', 'gender': 2, 'id': 37932, 'job': 'Director', 'name': 'F. Gary Gray'}\n",
      "{'credit_id': '52fe4271c3a36847f801f22d', 'department': 'Directing', 'gender': 0, 'id': 2294, 'job': 'Director', 'name': 'Robert Rodriguez'}\n",
      "{'credit_id': '52fe4512c3a36847f80bae13', 'department': 'Directing', 'gender': 2, 'id': 18069, 'job': 'Director', 'name': 'Brian Gibson'}\n",
      "{'credit_id': '52fe423ec3a36847f800f319', 'department': 'Directing', 'gender': 2, 'id': 5501, 'job': 'Director', 'name': 'Gary Fleder'}\n",
      "{'credit_id': '52fe43829251416c7501325d', 'department': 'Directing', 'gender': 2, 'id': 578, 'job': 'Director', 'name': 'Ridley Scott'}\n",
      "{'credit_id': '52fe44dbc3a36847f80ae285', 'department': 'Directing', 'gender': 0, 'id': 3224, 'job': 'Director', 'name': 'Stephen Frears'}\n",
      "{'credit_id': '52fe44c09251416c7503fc9f', 'department': 'Directing', 'gender': 2, 'id': 5140, 'job': 'Director', 'name': 'Wes Craven'}\n",
      "{'credit_id': '52fe44dcc3a36847f80ae747', 'department': 'Directing', 'gender': 2, 'id': 11401, 'job': 'Director', 'name': 'John Woo'}\n",
      "{'credit_id': '52fe43ee9251416c7502372b', 'department': 'Directing', 'gender': 2, 'id': 23213, 'job': 'Director', 'name': 'Harold Becker'}\n",
      "{'credit_id': '52fe458b9251416c7505a35b', 'department': 'Directing', 'gender': 2, 'id': 5655, 'job': 'Director', 'name': 'Wes Anderson'}\n",
      "{'credit_id': '52fe4511c3a36847f80ba903', 'department': 'Directing', 'gender': 2, 'id': 17494, 'job': 'Director', 'name': 'Dennis Dugan'}\n",
      "{'credit_id': '52fe426ac3a36847f801cf97', 'department': 'Directing', 'gender': 2, 'id': 190, 'job': 'Director', 'name': 'Clint Eastwood'}\n",
      "{'credit_id': '52fe4225c3a36847f80079c7', 'department': 'Directing', 'gender': 2, 'id': 2461, 'job': 'Director', 'name': 'Mel Gibson'}\n",
      "{'credit_id': '52fe4218c3a36847f80037c1', 'department': 'Directing', 'gender': 2, 'id': 1032, 'job': 'Director', 'name': 'Martin Scorsese'}\n",
      "{'credit_id': '52fe45219251416c9102886f', 'department': 'Directing', 'gender': 2, 'id': 44916, 'job': 'Director', 'name': 'Stanley Tong'}\n",
      "{'credit_id': '52fe43ef9251416c750238a5', 'department': 'Directing', 'gender': 2, 'id': 68215, 'job': 'Director', 'name': 'Reginald Hudlin'}\n",
      "{'credit_id': '52fe4332c3a36847f8041aab', 'department': 'Directing', 'gender': 2, 'id': 17883, 'job': 'Director', 'name': 'David O. Russell'}\n",
      "{'credit_id': '52fe44959251416c75039f39', 'department': 'Directing', 'gender': 0, 'id': 15175, 'job': 'Director', 'name': 'William Friedkin'}\n",
      "{'credit_id': '52fe44e4c3a36847f80b0429', 'department': 'Directing', 'gender': 2, 'id': 18250, 'job': 'Director', 'name': 'Jon Avnet'}\n",
      "{'credit_id': '52fe46cf9251416c750843a3', 'department': 'Directing', 'gender': 2, 'id': 12833, 'job': 'Director', 'name': 'Edward Burns'}\n",
      "{'credit_id': '52fe4524c3a36847f80bec55', 'department': 'Directing', 'gender': 2, 'id': 865, 'job': 'Director', 'name': 'Michael Bay'}\n",
      "{'credit_id': '52fe4253c3a36847f80158f3', 'department': 'Directing', 'gender': 2, 'id': 6159, 'job': 'Director', 'name': 'Ron Howard'}\n",
      "{'credit_id': '52fe44849251416c7503797f', 'department': 'Directing', 'gender': 2, 'id': 30365, 'job': 'Director', 'name': 'Michael Caton-Jones'}\n",
      "{'credit_id': '52fe4240c3a36847f800fdd9', 'department': 'Directing', 'gender': 2, 'id': 5572, 'job': 'Director', 'name': 'Joel Schumacher'}\n",
      "{'credit_id': '52fe44bec3a36847f80a7913', 'department': 'Directing', 'gender': 0, 'id': 11887, 'job': 'Director', 'name': 'Brad Silberling'}\n",
      "{'credit_id': '52fe435a9251416c7500d25f', 'department': 'Directing', 'gender': 2, 'id': 664, 'job': 'Director', 'name': 'Frank Marshall'}\n",
      "{'credit_id': '52fe44ccc3a36847f80aa7dd', 'department': 'Directing', 'gender': 2, 'id': 893, 'job': 'Director', 'name': 'Tony Scott'}\n",
      "{'credit_id': '52fe4490c3a36847f809d4e7', 'department': 'Directing', 'gender': 0, 'id': 2294, 'job': 'Director', 'name': 'Robert Rodriguez'}\n",
      "{'credit_id': '52fe42ffc3a36847f8032955', 'department': 'Directing', 'gender': 0, 'id': 1090, 'job': 'Director', 'name': 'John McTiernan'}\n",
      "{'credit_id': '52fe4457c3a36847f8090695', 'department': 'Directing', 'gender': 2, 'id': 3415, 'job': 'Director', 'name': 'Jerry Zucker'}\n",
      "{'credit_id': '52fe436e9251416c75010097', 'department': 'Directing', 'gender': 2, 'id': 1978, 'job': 'Director', 'name': 'Iain Softley'}\n",
      "{'credit_id': '52fe44ebc3a36847f80b1b01', 'department': 'Directing', 'gender': 2, 'id': 51917, 'job': 'Director', 'name': 'Larry Clark'}\n",
      "{'credit_id': '52fe434bc3a36847f804933f', 'department': 'Directing', 'gender': 2, 'id': 19303, 'job': 'Director', 'name': 'Kevin Smith'}\n",
      "{'credit_id': '52fe4307c3a36847f80351ad', 'department': 'Directing', 'gender': 2, 'id': 11472, 'job': 'Director', 'name': 'Irwin Winkler'}\n",
      "{'credit_id': '52fe44af9251416c7503d5bb', 'department': 'Directing', 'gender': 2, 'id': 28902, 'job': 'Director', 'name': 'Gregory Widen'}\n",
      "{'credit_id': '52fe43829251416c750131e7', 'department': 'Directing', 'gender': 0, 'id': 8965, 'job': 'Director', 'name': 'Roland Joffé'}\n",
      "{'credit_id': '52fe43ba9251416c7501bc2d', 'department': 'Directing', 'gender': 2, 'id': 10491, 'job': 'Director', 'name': 'Paul Verhoeven'}\n",
      "{'credit_id': '52fe44ebc3a36847f80b1d6f', 'department': 'Directing', 'gender': 2, 'id': 21370, 'job': 'Director', 'name': 'Roger Donaldson'}\n",
      "{'credit_id': '52fe4397c3a36847f8060209', 'department': 'Directing', 'gender': 2, 'id': 32277, 'job': 'Director', 'name': 'Geoff Murphy'}\n",
      "{'credit_id': '574a3810c3a368302400197d', 'department': 'Directing', 'gender': 0, 'id': 8300, 'job': 'Director', 'name': 'Kevin Reynolds'}\n",
      "{'credit_id': '52fe4214c3a36847f80023e1', 'department': 'Directing', 'gender': 2, 'id': 564, 'job': 'Director', 'name': 'Richard Linklater'}\n",
      "{'credit_id': '52fe434ac3a36847f8049253', 'department': 'Directing', 'gender': 2, 'id': 19303, 'job': 'Director', 'name': 'Kevin Smith'}\n",
      "{'credit_id': '52fe4320c3a36847f803c60d', 'department': 'Directing', 'gender': 2, 'id': 25210, 'job': 'Director', 'name': 'Jeremy Leven'}\n",
      "{'credit_id': '52fe44cec3a36847f80ab1a9', 'department': 'Directing', 'gender': 2, 'id': 8246, 'job': 'Director', 'name': 'Barry Levinson'}\n",
      "{'credit_id': '592b29339251413b5006335e', 'department': 'Directing', 'gender': 2, 'id': 7395, 'job': 'Director', 'name': 'Bobby Farrelly'}\n",
      "{'credit_id': '52fe43d9c3a368484e001de9', 'department': 'Directing', 'gender': 2, 'id': 56205, 'job': 'Director', 'name': 'Atom Egoyan'}\n",
      "{'credit_id': '52fe424cc3a36847f8013849', 'department': 'Directing', 'gender': 2, 'id': 510, 'job': 'Director', 'name': 'Tim Burton'}\n",
      "{'credit_id': '52fe45e19251416c75065927', 'department': 'Directing', 'gender': 2, 'id': 122449, 'job': 'Director', 'name': 'Steve James'}\n",
      "{'credit_id': '52fe42e5c3a36847f802b0e1', 'department': 'Directing', 'gender': 2, 'id': 108, 'job': 'Director', 'name': 'Peter Jackson'}\n",
      "{'credit_id': '52fe4260c3a36847f8019a1b', 'department': 'Directing', 'gender': 0, 'id': 17016, 'job': 'Director', 'name': 'Neil Jordan'}\n",
      "{'credit_id': '52fe49d49251416c910ba1f5', 'department': 'Directing', 'gender': 2, 'id': 54441, 'job': 'Director', 'name': 'James Ivory'}\n",
      "{'credit_id': '52fe47939251416c7509e703', 'department': 'Directing', 'gender': 0, 'id': 73668, 'job': 'Director', 'name': 'James Melkonian'}\n",
      "{'credit_id': '52fe443bc3a36847f8089cfd', 'department': 'Directing', 'gender': 2, 'id': 23393, 'job': 'Director', 'name': 'Barbet Schroeder'}\n",
      "{'credit_id': '52fe420dc3a36847f8000437', 'department': 'Directing', 'gender': 2, 'id': 1, 'job': 'Director', 'name': 'George Lucas'}\n",
      "{'credit_id': '52fe450dc3a36847f80b9a3b', 'department': 'Directing', 'gender': 1, 'id': 58094, 'job': 'Director', 'name': 'Gillian Armstrong'}\n",
      "{'credit_id': '52fe43c4c3a36847f806e1b5', 'department': 'Directing', 'gender': 2, 'id': 9181, 'job': 'Director', 'name': 'Edward Zwick'}\n",
      "{'credit_id': '52fe446ac3a36847f80949d3', 'department': 'Directing', 'gender': 2, 'id': 5231, 'job': 'Director', 'name': 'Wolfgang Petersen'}\n",
      "{'credit_id': '52fe4697c3a368484e099029', 'department': 'Directing', 'gender': 1, 'id': 6495, 'job': 'Director', 'name': 'Mira Nair'}\n",
      "{'credit_id': '52fe4269c3a36847f801caa3', 'department': 'Directing', 'gender': 2, 'id': 138, 'job': 'Director', 'name': 'Quentin Tarantino'}\n",
      "{'credit_id': '52fe44b69251416c7503e561', 'department': 'Directing', 'gender': 2, 'id': 7623, 'job': 'Director', 'name': 'Sam Raimi'}\n",
      "{'credit_id': '52fe4361c3a36847f804fd3f', 'department': 'Directing', 'gender': 2, 'id': 26648, 'job': 'Director', 'name': 'Luis Llosa'}\n",
      "{'credit_id': '52fe44379251416c7502ce6d', 'department': 'Directing', 'gender': 2, 'id': 58072, 'job': 'Director', 'name': 'John Pasquin'}\n",
      "{'credit_id': '52fe4231c3a36847f800b127', 'department': 'Directing', 'gender': 2, 'id': 4027, 'job': 'Director', 'name': 'Frank Darabont'}\n",
      "{'credit_id': '52fe44d8c3a36847f80ad651', 'department': 'Directing', 'gender': 1, 'id': 56891, 'job': 'Director', 'name': 'Rachel Talalay'}\n",
      "{'credit_id': '52fe44d7c3a36847f80ad259', 'department': 'Directing', 'gender': 2, 'id': 15521, 'job': 'Director', 'name': 'Ernest R. Dickerson'}\n",
      "{'credit_id': '52fe4225c3a36847f80076c3', 'department': 'Directing', 'gender': 2, 'id': 2380, 'job': 'Director', 'name': 'David Carson'}\n",
      "{'credit_id': '52fe44b6c3a368484e032c45', 'department': 'Directing', 'gender': 2, 'id': 141825, 'job': 'Director', 'name': 'Rusty Cundieff'}\n",
      "{'credit_id': '52fe4301c3a36847f80336af', 'department': 'Directing', 'gender': 2, 'id': 5306, 'job': 'Director', 'name': 'Lasse Hallström'}\n",
      "{'credit_id': '52fe44dfc3a36847f80af157', 'department': 'Directing', 'gender': 0, 'id': 57090, 'job': 'Director', 'name': 'Brett Leonard'}\n",
      "{'credit_id': '52fe4380c3a36847f8058c75', 'department': 'Directing', 'gender': 2, 'id': 4499, 'job': 'Director', 'name': 'Tom Shadyac'}\n",
      "{'credit_id': '52fe44359251416c7502c8db', 'department': 'Directing', 'gender': 2, 'id': 1243, 'job': 'Director', 'name': 'Woody Allen'}\n",
      "{'credit_id': '52fe44e8c3a36847f80b1307', 'department': 'Directing', 'gender': 2, 'id': 13015, 'job': 'Director', 'name': 'Phillip Noyce'}\n",
      "{'credit_id': '52fe43ab9251416c7501972d', 'department': 'Directing', 'gender': 2, 'id': 5572, 'job': 'Director', 'name': 'Joel Schumacher'}\n",
      "{'credit_id': '52fe45589251416c9102f1af', 'department': 'Directing', 'gender': 2, 'id': 5281, 'job': 'Director', 'name': 'Spike Lee'}\n",
      "{'credit_id': '52fe44ffc3a36847f80b6a11', 'department': 'Directing', 'gender': 2, 'id': 21085, 'job': 'Director', 'name': 'Alex Proyas'}\n",
      "{'credit_id': '52fe4287c3a36847f8026357', 'department': 'Directing', 'gender': 2, 'id': 13581, 'job': 'Director', 'name': 'Brian Levant'}\n",
      "{'credit_id': '52fe420ec3a36847f800072d', 'department': 'Directing', 'gender': 2, 'id': 24, 'job': 'Director', 'name': 'Robert Zemeckis'}\n",
      "{'credit_id': '52fe426ec3a36847f801e27f', 'department': 'Directing', 'gender': 2, 'id': 10723, 'job': 'Director', 'name': 'Mike Newell'}\n",
      "{'credit_id': '52fe44afc3a36847f80a450f', 'department': 'Directing', 'gender': 2, 'id': 15812, 'job': 'Director', 'name': 'Roger Allers'}\n",
      "{'credit_id': '52fe44639251416c7503302f', 'department': 'Directing', 'gender': 2, 'id': 5140, 'job': 'Director', 'name': 'Wes Craven'}\n",
      "{'credit_id': '52fe4282c3a36847f80247a5', 'department': 'Directing', 'gender': 2, 'id': 26713, 'job': 'Director', 'name': 'Chuck Russell'}\n",
      "{'credit_id': '52fe45f69251416c910447e1', 'department': 'Directing', 'gender': 2, 'id': 13426, 'job': 'Director', 'name': 'Peter Segal'}\n",
      "{'credit_id': '52fe43e29251416c75021e07', 'department': 'Directing', 'gender': 2, 'id': 18281, 'job': 'Director', 'name': 'Donald Petrie'}\n",
      "{'credit_id': '52fe44cfc3a36847f80ab353', 'department': 'Directing', 'gender': 2, 'id': 323, 'job': 'Director', 'name': 'Curtis Hanson'}\n",
      "{'credit_id': '52fe4307c3a36847f8034f5b', 'department': 'Directing', 'gender': 2, 'id': 2209, 'job': 'Director', 'name': 'Jan de Bont'}\n",
      "{'credit_id': '52fe44bbc3a36847f80a6de9', 'department': 'Directing', 'gender': 2, 'id': 37710, 'job': 'Director', 'name': 'Peter Hyams'}\n",
      "{'credit_id': '52fe461c9251416c91049903', 'department': 'Directing', 'gender': 2, 'id': 2710, 'job': 'Director', 'name': 'James Cameron'}\n",
      "{'credit_id': '52fe43669251416c7500ed6d', 'department': 'Directing', 'gender': 2, 'id': 5342, 'job': 'Director', 'name': 'Mike Nichols'}\n",
      "{'credit_id': '52fe44c19251416c7503fdcf', 'department': 'Directing', 'gender': 2, 'id': 8844, 'job': 'Director', 'name': 'Lawrence Kasdan'}\n",
      "{'credit_id': '52fe44fcc3a368484e042457', 'department': 'Directing', 'gender': 2, 'id': 35689, 'job': 'Director', 'name': 'Keenen Ivory Wayans'}\n",
      "{'credit_id': '52fe44759251416c750356b5', 'department': 'Directing', 'gender': 2, 'id': 1726, 'job': 'Director', 'name': 'Steven E. de Souza'}\n",
      "{'credit_id': '52fe448dc3a36847f809c6b5', 'department': 'Directing', 'gender': 2, 'id': 53599, 'job': 'Director', 'name': 'Andrew Morahan'}\n",
      "{'credit_id': '52fe43709251416c750106b3', 'department': 'Directing', 'gender': 2, 'id': 1032, 'job': 'Director', 'name': 'Martin Scorsese'}\n",
      "{'credit_id': '52fe4235c3a36847f800c321', 'department': 'Directing', 'gender': 2, 'id': 4610, 'job': 'Director', 'name': 'John Landis'}\n",
      "{'credit_id': '52fe44ebc3a36847f80b1e7f', 'department': 'Directing', 'gender': 2, 'id': 16938, 'job': 'Director', 'name': 'Renny Harlin'}\n",
      "{'credit_id': '52fe450bc3a36847f80b9235', 'department': 'Directing', 'gender': 2, 'id': 564, 'job': 'Director', 'name': 'Richard Linklater'}\n",
      "{'credit_id': '52fe46359251416c9104ceef', 'department': 'Directing', 'gender': 2, 'id': 2226, 'job': 'Director', 'name': 'Sydney Pollack'}\n",
      "{'credit_id': '52fe440ac3a36847f807eb25', 'department': 'Directing', 'gender': 2, 'id': 12989, 'job': 'Director', 'name': 'Andrew Davis'}\n",
      "{'credit_id': '52fe44a39251416c7503bdff', 'department': 'Directing', 'gender': 0, 'id': 1223, 'job': 'Director', 'name': 'Joel Coen'}\n",
      "{'credit_id': '52fe49a2c3a36847f81a480b', 'department': 'Directing', 'gender': 2, 'id': 230059, 'job': 'Director', 'name': 'Matty Rich'}\n",
      "{'credit_id': '52fe467a9251416c75079a2f', 'department': 'Directing', 'gender': 2, 'id': 18069, 'job': 'Director', 'name': 'Brian Gibson'}\n",
      "{'credit_id': '52fe4238c3a36847f800d291', 'department': 'Directing', 'gender': 2, 'id': 488, 'job': 'Director', 'name': 'Steven Spielberg'}\n",
      "{'credit_id': '52fe424bc3a36847f8013255', 'department': 'Directing', 'gender': 2, 'id': 8297, 'job': 'Director', 'name': 'Roger Avary'}\n",
      "{'credit_id': '52fe450ec3a36847f80b9cd7', 'department': 'Directing', 'gender': 0, 'id': 1090, 'job': 'Director', 'name': 'John McTiernan'}\n",
      "{'credit_id': '52fe4503c3a36847f80b732f', 'department': 'Directing', 'gender': 2, 'id': 11447, 'job': 'Director', 'name': 'Albert Hughes'}\n",
      "{'credit_id': '52fe434ec3a36847f804a21b', 'department': 'Directing', 'gender': 2, 'id': 2523, 'job': 'Director', 'name': 'Stuart Baird'}\n",
      "{'credit_id': '52fe44ad9251416c7503d107', 'department': 'Directing', 'gender': 2, 'id': 11181, 'job': 'Director', 'name': 'Kenneth Branagh'}\n",
      "{'credit_id': '52fe4276c3a36847f802094b', 'department': 'Directing', 'gender': 2, 'id': 10965, 'job': 'Director', 'name': 'Chris Columbus'}\n",
      "{'credit_id': '52fe452fc3a36847f80c10cf', 'department': 'Directing', 'gender': 2, 'id': 16294, 'job': 'Director', 'name': 'Jonathan Demme'}\n",
      "{'credit_id': '52fe426ec3a36847f801e351', 'department': 'Directing', 'gender': 1, 'id': 10757, 'job': 'Director', 'name': 'Jane Campion'}\n",
      "{'credit_id': '52fe449dc3a36847f80a0447', 'department': 'Directing', 'gender': 2, 'id': 6482, 'job': 'Director', 'name': 'John Singleton'}\n",
      "{'credit_id': '52fe42e9c3a36847f802c521', 'department': 'Directing', 'gender': 2, 'id': 54441, 'job': 'Director', 'name': 'James Ivory'}\n",
      "{'credit_id': '52fe44949251416c75039cf9', 'department': 'Directing', 'gender': 1, 'id': 14911, 'job': 'Director', 'name': 'Penny Marshall'}\n",
      "{'credit_id': '52fe440ec3a36847f807fb97', 'department': 'Directing', 'gender': 2, 'id': 44056, 'job': 'Director', 'name': 'Fred Dekker'}\n",
      "{'credit_id': '52fe4334c3a36847f80422d1', 'department': 'Directing', 'gender': 2, 'id': 21377, 'job': 'Director', 'name': 'Peter Medak'}\n",
      "{'credit_id': '52fe474cc3a36847f812dcf7', 'department': 'Directing', 'gender': 2, 'id': 138322, 'job': 'Director', 'name': 'Victor Nunez'}\n",
      "{'credit_id': '52fe4241c3a36847f801024d', 'department': 'Directing', 'gender': 2, 'id': 488, 'job': 'Director', 'name': 'Steven Spielberg'}\n",
      "{'credit_id': '52fe44629251416c75032d1d', 'department': 'Directing', 'gender': 2, 'id': 10367, 'job': 'Director', 'name': 'John Waters'}\n",
      "{'credit_id': '52fe44c0c3a36847f80a8081', 'department': 'Directing', 'gender': 2, 'id': 52968, 'job': 'Director', 'name': 'Russell Mulcahy'}\n",
      "{'credit_id': '52fe43729251416c75010beb', 'department': 'Directing', 'gender': 2, 'id': 4786, 'job': 'Director', 'name': 'Richard Attenborough'}\n",
      "{'credit_id': '52fe4214c3a36847f8002595', 'department': 'Directing', 'gender': 2, 'id': 578, 'job': 'Director', 'name': 'Ridley Scott'}\n",
      "{'credit_id': '52fe4510c3a36847f80ba4f3', 'department': 'Directing', 'gender': 0, 'id': 58164, 'job': 'Director', 'name': 'Annabel Jankel'}\n",
      "{'credit_id': '52fe44ac9251416c7503cfc3', 'department': 'Directing', 'gender': 2, 'id': 16566, 'job': 'Director', 'name': 'George P. Cosmatos'}\n",
      "{'credit_id': '52fe4237c3a36847f800cda7', 'department': 'Directing', 'gender': 2, 'id': 893, 'job': 'Director', 'name': 'Tony Scott'}\n",
      "{'credit_id': '52fe44419251416c7502e3dd', 'department': 'Directing', 'gender': 2, 'id': 66605, 'job': 'Director', 'name': 'Todd Solondz'}\n",
      "{'credit_id': '52fe4274c3a36847f801ff41', 'department': 'Directing', 'gender': 2, 'id': 10965, 'job': 'Director', 'name': 'Chris Columbus'}\n",
      "{'credit_id': '52fe422dc3a36847f8009f2b', 'department': 'Directing', 'gender': 2, 'id': 3415, 'job': 'Director', 'name': 'Jerry Zucker'}\n",
      "{'credit_id': '52fe427ac3a36847f8021b03', 'department': 'Directing', 'gender': 2, 'id': 15810, 'job': 'Director', 'name': 'Ron Clements'}\n",
      "{'credit_id': '52fe4231c3a36847f800b289', 'department': 'Directing', 'gender': 2, 'id': 2710, 'job': 'Director', 'name': 'James Cameron'}\n",
      "{'credit_id': '52fe4255c3a36847f801630d', 'department': 'Directing', 'gender': 2, 'id': 1269, 'job': 'Director', 'name': 'Kevin Costner'}\n",
      "{'credit_id': '52fe422fc3a36847f800a9f1', 'department': 'Directing', 'gender': 2, 'id': 510, 'job': 'Director', 'name': 'Tim Burton'}\n",
      "{'credit_id': '52fe4230c3a36847f800adbd', 'department': 'Directing', 'gender': 2, 'id': 16294, 'job': 'Director', 'name': 'Jonathan Demme'}\n",
      "{'credit_id': '52fe4240c3a36847f800fa1b', 'department': 'Directing', 'gender': 2, 'id': 5446, 'job': 'Director', 'name': 'David Hand'}\n",
      "{'credit_id': '52fe43cb9251416c7501e687', 'department': 'Directing', 'gender': 2, 'id': 11426, 'job': 'Director', 'name': 'Ben Sharpsteen'}\n",
      "{'credit_id': '52fe4219c3a36847f800403b', 'department': 'Directing', 'gender': 2, 'id': 1201, 'job': 'Director', 'name': 'Garry Marshall'}\n",
      "{'credit_id': '52fe4254c3a36847f8015e7f', 'department': 'Directing', 'gender': 0, 'id': 7767, 'job': 'Director', 'name': 'Sam Peckinpah'}\n",
      "{'credit_id': '52fe448d9251416c75038ca9', 'department': 'Directing', 'gender': 2, 'id': 70616, 'job': 'Director', 'name': 'Gerald Potterton'}\n",
      "{'credit_id': '52fe446dc3a368484e02291d', 'department': 'Directing', 'gender': 2, 'id': 32278, 'job': 'Director', 'name': 'Matt Reeves'}\n",
      "{'credit_id': '52fe457ac3a368484e05db87', 'department': 'Directing', 'gender': 2, 'id': 78029, 'job': 'Director', 'name': 'Martin Lawrence'}\n",
      "{'credit_id': '52fe44dcc3a36847f80ae3fd', 'department': 'Directing', 'gender': 2, 'id': 21217, 'job': 'Director', 'name': 'Jonathan Lynn'}\n",
      "{'credit_id': '52fe4661c3a368484e08d77b', 'department': 'Directing', 'gender': 2, 'id': 5281, 'job': 'Director', 'name': 'Spike Lee'}\n",
      "{'credit_id': '52fe43a29251416c750181af', 'department': 'Directing', 'gender': 2, 'id': 9181, 'job': 'Director', 'name': 'Edward Zwick'}\n",
      "{'credit_id': '52fe4292c3a36847f8029493', 'department': 'Directing', 'gender': 2, 'id': 1150, 'job': 'Director', 'name': 'Brian De Palma'}\n",
      "{'credit_id': '52fe44bfc3a36847f80a7a0f', 'department': 'Directing', 'gender': 2, 'id': 18878, 'job': 'Director', 'name': 'Rob Cohen'}\n",
      "{'credit_id': '52fe4736c3a36847f8129509', 'department': 'Directing', 'gender': 2, 'id': 47773, 'job': 'Director', 'name': 'Paul Mazursky'}\n",
      "{'credit_id': '52fe434bc3a36847f80496c5', 'department': 'Directing', 'gender': 2, 'id': 23677, 'job': 'Director', 'name': 'Joe Pytka'}\n",
      "{'credit_id': '52fe4490c3a36847f809d56f', 'department': 'Directing', 'gender': 2, 'id': 53767, 'job': 'Director', 'name': 'Roger Vadim'}\n",
      "{'credit_id': '52fe457ac3a36847f80c9ad7', 'department': 'Directing', 'gender': 2, 'id': 24318, 'job': 'Director', 'name': 'Richard Benjamin'}\n",
      "{'credit_id': '52fe45e19251416c91041a75', 'department': 'Directing', 'gender': 2, 'id': 129941, 'job': 'Director', 'name': 'Alan Shapiro'}\n",
      "{'credit_id': '52fe44989251416c7503a51f', 'department': 'Directing', 'gender': 2, 'id': 25950, 'job': 'Director', 'name': 'Jean-Paul Rappeneau'}\n",
      "{'credit_id': '52fe44799251416c75036001', 'department': 'Directing', 'gender': 2, 'id': 64909, 'job': 'Director', 'name': 'Jean-Marie Poiré'}\n",
      "{'credit_id': '52fe44e4c3a36847f80b0553', 'department': 'Directing', 'gender': 2, 'id': 1524, 'job': 'Director', 'name': 'Harold Ramis'}\n",
      "{'credit_id': '52fe44dcc3a36847f80ae46f', 'department': 'Directing', 'gender': 2, 'id': 41549, 'job': 'Director', 'name': 'Andrew Fleming'}\n",
      "{'credit_id': '52fe4530c3a36847f80c1269', 'department': 'Directing', 'gender': 2, 'id': 865, 'job': 'Director', 'name': 'Michael Bay'}\n",
      "{'credit_id': '52fe4266c3a36847f801b89f', 'department': 'Directing', 'gender': 2, 'id': 2209, 'job': 'Director', 'name': 'Jan de Bont'}\n",
      "{'credit_id': '52fe43519251416c7500bda9', 'department': 'Directing', 'gender': 2, 'id': 64796, 'job': 'Director', 'name': 'Tom Holland'}\n",
      "{'credit_id': '52fe43829251416c750132db', 'department': 'Directing', 'gender': 2, 'id': 65548, 'job': 'Director', 'name': 'Rick Friedberg'}\n",
      "{'credit_id': '52fe4290c3a36847f802876d', 'department': 'Directing', 'gender': 2, 'id': 240, 'job': 'Director', 'name': 'Stanley Kubrick'}\n",
      "{'credit_id': '52fe4535c3a36847f80c220f', 'department': 'Directing', 'gender': 0, 'id': 18254, 'job': 'Director', 'name': 'Simon Wincer'}\n",
      "{'credit_id': '52fe453fc3a36847f80c393f', 'department': 'Directing', 'gender': 0, 'id': 41550, 'job': 'Director', 'name': 'Andrew Bergman'}\n",
      "{'credit_id': '52fe4260c3a36847f80198c1', 'department': 'Directing', 'gender': 2, 'id': 2034, 'job': 'Director', 'name': 'Danny Boyle'}\n",
      "{'credit_id': '52fe425bc3a36847f8017f33', 'department': 'Directing', 'gender': 2, 'id': 6046, 'job': 'Director', 'name': 'Roland Emmerich'}\n",
      "{'credit_id': '52fe450bc3a36847f80b8f65', 'department': 'Directing', 'gender': 2, 'id': 893, 'job': 'Director', 'name': 'Tony Scott'}\n",
      "{'credit_id': '52fe43859251416c75013915', 'department': 'Directing', 'gender': 2, 'id': 62047, 'job': 'Director', 'name': 'Gary Trousdale'}\n",
      "{'credit_id': '52fe4542c3a36847f80c41d3', 'department': 'Directing', 'gender': 2, 'id': 7399, 'job': 'Director', 'name': 'Ben Stiller'}\n",
      "{'credit_id': '52fe44569251416c7503120f', 'department': 'Directing', 'gender': 2, 'id': 7395, 'job': 'Director', 'name': 'Bobby Farrelly'}\n",
      "{'credit_id': '52fe44dfc3a36847f80aefad', 'department': 'Directing', 'gender': 2, 'id': 26713, 'job': 'Director', 'name': 'Chuck Russell'}\n",
      "{'credit_id': '52fe44e8c3a36847f80b11c7', 'department': 'Directing', 'gender': 2, 'id': 4499, 'job': 'Director', 'name': 'Tom Shadyac'}\n",
      "{'credit_id': '52fe44159251416c750284fb', 'department': 'Directing', 'gender': 2, 'id': 18878, 'job': 'Director', 'name': 'Rob Cohen'}\n",
      "{'credit_id': '52fe4517c3a368484e047e75', 'department': 'Directing', 'gender': 2, 'id': 102445, 'job': 'Director', 'name': 'John Sayles'}\n",
      "{'credit_id': '52fe46a09251416c9105a775', 'department': 'Directing', 'gender': 1, 'id': 18320, 'job': 'Director', 'name': 'Bronwen Hughes'}\n",
      "{'credit_id': '52fe44e3c3a36847f80afff5', 'department': 'Directing', 'gender': 2, 'id': 12962, 'job': 'Director', 'name': 'Jon Turteltaub'}\n",
      "{'credit_id': '52fe47b2c3a36847f8143647', 'department': 'Directing', 'gender': 1, 'id': 56539, 'job': 'Director', 'name': 'Nicole Holofcener'}\n",
      "{'credit_id': '52fe44319251416c7502bf9b', 'department': 'Directing', 'gender': 2, 'id': 12833, 'job': 'Director', 'name': 'Edward Burns'}\n",
      "{'credit_id': '52fe4308c3a36847f80353f9', 'department': 'Directing', 'gender': 2, 'id': 5572, 'job': 'Director', 'name': 'Joel Schumacher'}\n",
      "{'credit_id': '52fe47859251416c7509c72b', 'department': 'Directing', 'gender': 2, 'id': 40230, 'job': 'Director', 'name': 'Kevin Hooks'}\n",
      "{'credit_id': '52fe47af9251416c750a20e7', 'department': 'Directing', 'gender': 2, 'id': 18308, 'job': 'Director', 'name': 'Steve Barron'}\n",
      "{'credit_id': '52fe4375c3a36847f80559d5', 'department': 'Directing', 'gender': 2, 'id': 28904, 'job': 'Director', 'name': 'Hugh Wilson'}\n",
      "{'credit_id': '52fe439fc3a36847f8062c0d', 'department': 'Directing', 'gender': 2, 'id': 6159, 'job': 'Director', 'name': 'Ron Howard'}\n",
      "{'credit_id': '52fe44ba9251416c7503edf9', 'department': 'Directing', 'gender': 2, 'id': 12989, 'job': 'Director', 'name': 'Andrew Davis'}\n",
      "{'credit_id': '52fe43179251416c7500311d', 'department': 'Directing', 'gender': 2, 'id': 11770, 'job': 'Director', 'name': 'John Carpenter'}\n",
      "{'credit_id': '52fe4250c3a36847f8014909', 'department': 'Directing', 'gender': 2, 'id': 7482, 'job': 'Director', 'name': 'Julian Schnabel'}\n",
      "{'credit_id': '52fe43779251416c75011877', 'department': 'Directing', 'gender': 2, 'id': 4037, 'job': 'Director', 'name': 'Ron Shelton'}\n",
      "{'credit_id': '52fe422bc3a36847f80093c9', 'department': 'Directing', 'gender': 2, 'id': 1776, 'job': 'Director', 'name': 'Francis Ford Coppola'}\n",
      "{'credit_id': '52fe44e4c3a36847f80b04b7', 'department': 'Directing', 'gender': 1, 'id': 9339, 'job': 'Director', 'name': 'Lilly Wachowski'}\n",
      "{'credit_id': '52fe4442c3a368484e018d93', 'department': 'Directing', 'gender': 2, 'id': 9789, 'job': 'Director', 'name': 'Robert Altman'}\n",
      "{'credit_id': '52fe43e39251416c75021fb1', 'department': 'Directing', 'gender': 2, 'id': 37710, 'job': 'Director', 'name': 'Peter Hyams'}\n",
      "{'credit_id': '52fe44e5c3a36847f80b0667', 'department': 'Directing', 'gender': 2, 'id': 13776, 'job': 'Director', 'name': 'John Frankenheimer'}\n",
      "{'credit_id': '52fe439fc3a36847f806271d', 'department': 'Directing', 'gender': 2, 'id': 13563, 'job': 'Director', 'name': 'Norman Jewison'}\n",
      "{'credit_id': '52fe43dd9251416c75021201', 'department': 'Directing', 'gender': 2, 'id': 55116, 'job': 'Director', 'name': 'Joe Chappelle'}\n",
      "{'credit_id': '52fe4285c3a36847f80256b9', 'department': 'Directing', 'gender': 2, 'id': 13284, 'job': 'Director', 'name': 'Stanley Donen'}\n",
      "{'credit_id': '52fe4383c3a36847f8059c33', 'department': 'Directing', 'gender': 0, 'id': 2662, 'job': 'Director', 'name': 'Frank Capra'}\n",
      "{'credit_id': '52fe4232c3a36847f800b489', 'department': 'Directing', 'gender': 0, 'id': 3146, 'job': 'Director', 'name': 'Billy Wilder'}\n",
      "{'credit_id': '52fe422bc3a36847f8009421', 'department': 'Directing', 'gender': 0, 'id': 3146, 'job': 'Director', 'name': 'Billy Wilder'}\n",
      "{'credit_id': '52fe4233c3a36847f800b83b', 'department': 'Directing', 'gender': 0, 'id': 4109, 'job': 'Director', 'name': 'Michael Curtiz'}\n",
      "{'credit_id': '52fe43fb9251416c75024ebd', 'department': 'Directing', 'gender': 0, 'id': 14674, 'job': 'Director', 'name': 'George Cukor'}\n",
      "{'credit_id': '52fe4260c3a36847f8019b77', 'department': 'Directing', 'gender': 0, 'id': 9049, 'job': 'Director', 'name': 'Victor Fleming'}\n",
      "{'credit_id': '52fe4274c3a36847f801fde3', 'department': 'Directing', 'gender': 0, 'id': 9049, 'job': 'Director', 'name': 'Victor Fleming'}\n",
      "{'credit_id': '52fe4212c3a36847f8001a6b', 'department': 'Directing', 'gender': 2, 'id': 240, 'job': 'Director', 'name': 'Stanley Kubrick'}\n",
      "{'credit_id': '52fe4228c3a36847f8008885', 'department': 'Directing', 'gender': 2, 'id': 2636, 'job': 'Director', 'name': 'Alfred Hitchcock'}\n",
      "{'credit_id': '52fe43b0c3a36847f8067e55', 'department': 'Directing', 'gender': 2, 'id': 2636, 'job': 'Director', 'name': 'Alfred Hitchcock'}\n",
      "{'credit_id': '52fe4383c3a36847f8059d7b', 'department': 'Directing', 'gender': 2, 'id': 30165, 'job': 'Director', 'name': 'Mark Sandrich'}\n",
      "{'credit_id': '52fe4301c3a36847f8033549', 'department': 'Directing', 'gender': 0, 'id': 2662, 'job': 'Director', 'name': 'Frank Capra'}\n",
      "{'credit_id': '52fe4383c3a36847f8059f93', 'department': 'Directing', 'gender': 0, 'id': 2662, 'job': 'Director', 'name': 'Frank Capra'}\n",
      "{'credit_id': '52fe435b9251416c7500d34d', 'department': 'Directing', 'gender': 2, 'id': 14999, 'job': 'Director', 'name': 'George A. Romero'}\n",
      "{'credit_id': '52fe422fc3a36847f800a69b', 'department': 'Directing', 'gender': 2, 'id': 3632, 'job': 'Director', 'name': 'Richard Brooks'}\n",
      "{'credit_id': '52fe444ac3a368484e01aae7', 'department': 'Directing', 'gender': 2, 'id': 14855, 'job': 'Director', 'name': 'Frank Borzage'}\n",
      "{'credit_id': '52fe43c59251416c7501d86b', 'department': 'Directing', 'gender': 2, 'id': 26767, 'job': 'Director', 'name': 'Ringo Lam'}\n",
      "{'credit_id': '52fe4313c3a36847f803877b', 'department': 'Directing', 'gender': 0, 'id': 17016, 'job': 'Director', 'name': 'Neil Jordan'}\n",
      "{'credit_id': '52fe44f3c3a36847f80b39eb', 'department': 'Directing', 'gender': 2, 'id': 37932, 'job': 'Director', 'name': 'F. Gary Gray'}\n",
      "{'credit_id': '52fe44229251416c75029f4d', 'department': 'Directing', 'gender': 2, 'id': 10781, 'job': 'Director', 'name': 'Michael Apted'}\n",
      "{'credit_id': '52fe4513c3a36847f80baf29', 'department': 'Directing', 'gender': 2, 'id': 35155, 'job': 'Director', 'name': 'John Gray'}\n",
      "{'credit_id': '52fe4222c3a36847f80069fb', 'department': 'Directing', 'gender': 0, 'id': 2087, 'job': 'Director', 'name': 'Richard Fleischer'}\n",
      "{'credit_id': '52fe4284c3a36847f8025149', 'department': 'Directing', 'gender': 2, 'id': 12962, 'job': 'Director', 'name': 'Jon Turteltaub'}\n",
      "{'credit_id': '52fe44a3c3a36847f80a17ef', 'department': 'Directing', 'gender': 0, 'id': 8300, 'job': 'Director', 'name': 'Kevin Reynolds'}\n",
      "{'credit_id': '52fe4243c3a36847f8010841', 'department': 'Directing', 'gender': 2, 'id': 5834, 'job': 'Director', 'name': 'Robert Stevenson'}\n",
      "{'credit_id': '52fe44159251416c7502858b', 'department': 'Directing', 'gender': 2, 'id': 55117, 'job': 'Director', 'name': 'Matthew Bright'}\n",
      "{'credit_id': '52fe463b9251416c75071a61', 'department': 'Directing', 'gender': 2, 'id': 1744, 'job': 'Director', 'name': 'Robert Wise'}\n",
      "{'credit_id': '52fe4252c3a36847f8015429', 'department': 'Directing', 'gender': 0, 'id': 1090, 'job': 'Director', 'name': 'John McTiernan'}\n",
      "{'credit_id': '52fe43399251416c75008313', 'department': 'Directing', 'gender': 0, 'id': 57090, 'job': 'Director', 'name': 'Brett Leonard'}\n",
      "{'credit_id': '52fe450ec3a36847f80b9bad', 'department': 'Directing', 'gender': 2, 'id': 31, 'job': 'Director', 'name': 'Tom Hanks'}\n",
      "{'credit_id': '52fe443a9251416c7502d579', 'department': 'Directing', 'gender': 2, 'id': 16938, 'job': 'Director', 'name': 'Renny Harlin'}\n",
      "{'credit_id': '52fe438c9251416c75014c45', 'department': 'Directing', 'gender': 2, 'id': 2042, 'job': 'Director', 'name': 'Stephen Hopkins'}\n",
      "{'credit_id': '52fe4569c3a368484e059281', 'department': 'Directing', 'gender': 2, 'id': 884, 'job': 'Director', 'name': 'Steve Buscemi'}\n",
      "{'credit_id': '52fe4796c3a36847f813dc6f', 'department': 'Directing', 'gender': 2, 'id': 5281, 'job': 'Director', 'name': 'Spike Lee'}\n",
      "{'credit_id': '52fe469a9251416c91059a87', 'department': 'Directing', 'gender': 2, 'id': 16566, 'job': 'Director', 'name': 'George P. Cosmatos'}\n",
      "{'credit_id': '52fe4520c3a36847f80be0c7', 'department': 'Directing', 'gender': 2, 'id': 1243, 'job': 'Director', 'name': 'Woody Allen'}\n",
      "{'credit_id': '52fe4245c3a36847f8011539', 'department': 'Directing', 'gender': 2, 'id': 6201, 'job': 'Director', 'name': 'Baz Luhrmann'}\n",
      "{'credit_id': '52fe43449251416c75009d89', 'department': 'Directing', 'gender': 2, 'id': 11694, 'job': 'Director', 'name': 'Doug Liman'}\n",
      "{'credit_id': '52fe427bc3a36847f802222b', 'department': 'Directing', 'gender': 2, 'id': 8246, 'job': 'Director', 'name': 'Barry Levinson'}\n",
      "{'credit_id': '52fe422dc3a36847f8009fe5', 'department': 'Directing', 'gender': 2, 'id': 3451, 'job': 'Director', 'name': 'Mel Stuart'}\n",
      "{'credit_id': '52fe445a9251416c75031bcf', 'department': 'Directing', 'gender': 2, 'id': 1243, 'job': 'Director', 'name': 'Woody Allen'}\n",
      "{'credit_id': '52fe44219251416c75029d0f', 'department': 'Directing', 'gender': 2, 'id': 1243, 'job': 'Director', 'name': 'Woody Allen'}\n",
      "{'credit_id': '52fe424ac3a36847f8012cb9', 'department': 'Directing', 'gender': 2, 'id': 138, 'job': 'Director', 'name': 'Quentin Tarantino'}\n",
      "{'credit_id': '52fe4277c3a36847f8020cc9', 'department': 'Directing', 'gender': 2, 'id': 1152, 'job': 'Director', 'name': 'Oliver Stone'}\n",
      "{'credit_id': '52fe43839251416c750133f1', 'department': 'Directing', 'gender': 2, 'id': 1152, 'job': 'Director', 'name': 'Oliver Stone'}\n",
      "{'credit_id': '52fe44359251416c7502ca55', 'department': 'Directing', 'gender': 0, 'id': 17016, 'job': 'Director', 'name': 'Neil Jordan'}\n",
      "{'credit_id': '52fe4500c3a36847f80b6d6d', 'department': 'Directing', 'gender': 2, 'id': 15890, 'job': 'Director', 'name': 'James Foley'}\n",
      "{'credit_id': '52fe425bc3a36847f8017ddd', 'department': 'Directing', 'gender': 2, 'id': 488, 'job': 'Director', 'name': 'Steven Spielberg'}\n",
      "{'credit_id': '52fe4337c3a36847f80434eb', 'department': 'Directing', 'gender': 2, 'id': 893, 'job': 'Director', 'name': 'Tony Scott'}\n",
      "{'credit_id': '52fe426fc3a36847f801e673', 'department': 'Directing', 'gender': 2, 'id': 893, 'job': 'Director', 'name': 'Tony Scott'}\n",
      "{'credit_id': '52fe426dc3a36847f801dac1', 'department': 'Directing', 'gender': 2, 'id': 2746, 'job': 'Director', 'name': 'Elia Kazan'}\n",
      "{'credit_id': '52fe4421c3a368484e011125', 'department': 'Directing', 'gender': 2, 'id': 39104, 'job': 'Director', 'name': 'Abel Ferrara'}\n",
      "{'credit_id': '52fe44919251416c7503955d', 'department': 'Directing', 'gender': 2, 'id': 1927, 'job': 'Director', 'name': 'Blake Edwards'}\n",
      "{'credit_id': '52fe436ac3a36847f80528c5', 'department': 'Directing', 'gender': 2, 'id': 2710, 'job': 'Director', 'name': 'James Cameron'}\n",
      "{'credit_id': '52fe4276c3a36847f8020b0f', 'department': 'Directing', 'gender': 2, 'id': 11770, 'job': 'Director', 'name': 'John Carpenter'}\n",
      "{'credit_id': '52fe42e7c3a36847f802bc39', 'department': 'Directing', 'gender': 2, 'id': 11770, 'job': 'Director', 'name': 'John Carpenter'}\n",
      "{'credit_id': '52fe44209251416c75029b33', 'department': 'Directing', 'gender': 2, 'id': 4600, 'job': 'Director', 'name': 'Joe Dante'}\n",
      "{'credit_id': '52fe43b39251416c7501ab7b', 'department': 'Directing', 'gender': 2, 'id': 34611, 'job': 'Director', 'name': 'Howard Zieff'}\n",
      "{'credit_id': '52fe4272c3a36847f801f66f', 'department': 'Directing', 'gender': 2, 'id': 280, 'job': 'Director', 'name': 'Terry Gilliam'}\n",
      "{'credit_id': '52fe4240c3a36847f800fb65', 'department': 'Directing', 'gender': 2, 'id': 2239, 'job': 'Director', 'name': 'Anthony Minghella'}\n",
      "{'credit_id': '52fe42f4c3a36847f802f867', 'department': 'Directing', 'gender': 2, 'id': 1884, 'job': 'Director', 'name': 'Steven Soderbergh'}\n",
      "{'credit_id': '52fe424cc3a36847f80134ab', 'department': 'Directing', 'gender': 2, 'id': 3974, 'job': 'Director', 'name': 'Miloš Forman'}\n",
      "{'credit_id': '52fe431ec3a36847f803bb55', 'department': 'Directing', 'gender': 2, 'id': 10930, 'job': 'Director', 'name': 'Irvin Kershner'}\n",
      "{'credit_id': '52fe435ac3a36847f804df55', 'department': 'Directing', 'gender': 2, 'id': 3026, 'job': 'Director', 'name': 'Rob Reiner'}\n",
      "{'credit_id': '52fe4215c3a36847f8002a01', 'department': 'Directing', 'gender': 2, 'id': 488, 'job': 'Director', 'name': 'Steven Spielberg'}\n",
      "{'credit_id': '52fe4213c3a36847f8001e6d', 'department': 'Directing', 'gender': 2, 'id': 280, 'job': 'Director', 'name': 'Terry Gilliam'}\n",
      "{'credit_id': '52fe4269c3a36847f801c94f', 'department': 'Directing', 'gender': 2, 'id': 2710, 'job': 'Director', 'name': 'James Cameron'}\n",
      "{'credit_id': '52fe4242c3a36847f80105d3', 'department': 'Directing', 'gender': 2, 'id': 4385, 'job': 'Director', 'name': 'Sergio Leone'}\n",
      "{'credit_id': '52fe423dc3a36847f800ec43', 'department': 'Directing', 'gender': 0, 'id': 39996, 'job': 'Director', 'name': 'Sidney Lumet'}\n",
      "{'credit_id': '52fe4291c3a36847f8028f43', 'department': 'Directing', 'gender': 2, 'id': 12238, 'job': 'Director', 'name': 'David Lean'}\n",
      "{'credit_id': '52fe4259c3a36847f801770d', 'department': 'Directing', 'gender': 2, 'id': 8482, 'job': 'Director', 'name': 'Robert Mulligan'}\n",
      "{'credit_id': '52fe4210c3a36847f80012c7', 'department': 'Directing', 'gender': 2, 'id': 1776, 'job': 'Director', 'name': 'Francis Ford Coppola'}\n",
      "{'credit_id': '52fe4239c3a36847f800d76b', 'department': 'Directing', 'gender': 2, 'id': 4385, 'job': 'Director', 'name': 'Sergio Leone'}\n",
      "{'credit_id': '52fe431ec3a36847f803bbfd', 'department': 'Directing', 'gender': 2, 'id': 19800, 'job': 'Director', 'name': 'Richard Marquand'}\n",
      "{'credit_id': '52fe4274c3a36847f801fcc3', 'department': 'Directing', 'gender': 2, 'id': 1032, 'job': 'Director', 'name': 'Martin Scorsese'}\n",
      "{'credit_id': '52fe423bc3a36847f800e117', 'department': 'Directing', 'gender': 2, 'id': 578, 'job': 'Director', 'name': 'Ridley Scott'}\n",
      "{'credit_id': '52fe4273c3a36847f801f95f', 'department': 'Directing', 'gender': 2, 'id': 7623, 'job': 'Director', 'name': 'Sam Raimi'}\n",
      "{'credit_id': '52fe424ec3a36847f8014203', 'department': 'Directing', 'gender': 2, 'id': 2636, 'job': 'Director', 'name': 'Alfred Hitchcock'}\n",
      "{'credit_id': '52fe424dc3a36847f8013ad3', 'department': 'Directing', 'gender': 2, 'id': 4610, 'job': 'Director', 'name': 'John Landis'}\n",
      "{'credit_id': '52fe422bc3a36847f80094dd', 'department': 'Directing', 'gender': 2, 'id': 1776, 'job': 'Director', 'name': 'Francis Ford Coppola'}\n",
      "{'credit_id': '52fe43a59251416c750189bd', 'department': 'Directing', 'gender': 2, 'id': 11181, 'job': 'Director', 'name': 'Kenneth Branagh'}\n",
      "{'credit_id': '52fe4231c3a36847f800b1bb', 'department': 'Directing', 'gender': 2, 'id': 3974, 'job': 'Director', 'name': 'Miloš Forman'}\n",
      "{'credit_id': '52fe4236c3a36847f800c745', 'department': 'Directing', 'gender': 2, 'id': 4385, 'job': 'Director', 'name': 'Sergio Leone'}\n",
      "{'credit_id': '52fe4300c3a36847f8032f25', 'department': 'Directing', 'gender': 2, 'id': 1032, 'job': 'Director', 'name': 'Martin Scorsese'}\n",
      "{'credit_id': '52fe426dc3a36847f801db87', 'department': 'Directing', 'gender': 2, 'id': 1243, 'job': 'Director', 'name': 'Woody Allen'}\n",
      "{'credit_id': '52fe4508c3a36847f80b84f3', 'department': 'Directing', 'gender': 2, 'id': 648, 'job': 'Director', 'name': 'Philip Kaufman'}\n",
      "{'credit_id': '52fe423dc3a36847f800eaad', 'department': 'Directing', 'gender': 2, 'id': 5231, 'job': 'Director', 'name': 'Wolfgang Petersen'}\n",
      "{'credit_id': '52fe44e0c3a36847f80af579', 'department': 'Directing', 'gender': 2, 'id': 9577, 'job': 'Director', 'name': 'George Roy Hill'}\n",
      "{'credit_id': '52fe4228c3a36847f8008515', 'department': 'Directing', 'gender': 2, 'id': 2710, 'job': 'Director', 'name': 'James Cameron'}\n",
      "{'credit_id': '52fe4518c3a36847f80bc2e9', 'department': 'Directing', 'gender': 2, 'id': 9181, 'job': 'Director', 'name': 'Edward Zwick'}\n",
      "{'credit_id': '52fe4227c3a36847f8007fe1', 'department': 'Directing', 'gender': 2, 'id': 2690, 'job': 'Director', 'name': 'Peter Weir'}\n",
      "{'credit_id': '52fe427dc3a36847f8022ac7', 'department': 'Directing', 'gender': 2, 'id': 12238, 'job': 'Director', 'name': 'David Lean'}\n",
      "{'credit_id': '52fe426bc3a36847f801d39b', 'department': 'Directing', 'gender': 2, 'id': 240, 'job': 'Director', 'name': 'Stanley Kubrick'}\n",
      "{'credit_id': '52fe422ac3a36847f8009137', 'department': 'Directing', 'gender': 2, 'id': 3026, 'job': 'Director', 'name': 'Rob Reiner'}\n",
      "{'credit_id': '52fe4273c3a36847f801f885', 'department': 'Directing', 'gender': 2, 'id': 7623, 'job': 'Director', 'name': 'Sam Raimi'}\n",
      "{'credit_id': '52fe442ec3a36847f80871ad', 'department': 'Directing', 'gender': 2, 'id': 14520, 'job': 'Director', 'name': 'John Sturges'}\n",
      "{'credit_id': '52fe44849251416c75037893', 'department': 'Directing', 'gender': 2, 'id': 12114, 'job': 'Director', 'name': 'Michael Cimino'}\n",
      "{'credit_id': '52fe421cc3a36847f8004ec7', 'department': 'Directing', 'gender': 2, 'id': 1524, 'job': 'Director', 'name': 'Harold Ramis'}\n",
      "{'credit_id': '52fe4211c3a36847f8001437', 'department': 'Directing', 'gender': 2, 'id': 190, 'job': 'Director', 'name': 'Clint Eastwood'}\n",
      "{'credit_id': '52fe4218c3a36847f80039c7', 'department': 'Directing', 'gender': 2, 'id': 24, 'job': 'Director', 'name': 'Robert Zemeckis'}\n",
      "{'credit_id': '52fe440e9251416c7502780f', 'department': 'Directing', 'gender': 2, 'id': 13265, 'job': 'Director', 'name': 'Franklin J. Schaffner'}\n",
      "{'credit_id': '52fe421ec3a36847f80057a3', 'department': 'Directing', 'gender': 2, 'id': 185, 'job': 'Director', 'name': 'Katsuhiro Ōtomo'}\n",
      "{'credit_id': '52fe448dc3a36847f809c5c5', 'department': 'Directing', 'gender': 2, 'id': 52968, 'job': 'Director', 'name': 'Russell Mulcahy'}\n",
      "{'credit_id': '52fe437ec3a36847f8058703', 'department': 'Directing', 'gender': 2, 'id': 14639, 'job': 'Director', 'name': 'Mel Brooks'}\n",
      "{'credit_id': '5823d5709251411a4300139f', 'department': 'Directing', 'gender': 2, 'id': 5446, 'job': 'Director', 'name': 'David Hand'}\n",
      "{'credit_id': '52fe4232c3a36847f800b757', 'department': 'Directing', 'gender': 0, 'id': 4065, 'job': 'Director', 'name': 'Fred Zinnemann'}\n",
      "{'credit_id': '52fe46e19251416c75086967', 'department': 'Directing', 'gender': 2, 'id': 16187, 'job': 'Director', 'name': 'Jeannot Szwarc'}\n",
      "{'credit_id': '52fe4216c3a36847f8002df5', 'department': 'Directing', 'gender': 2, 'id': 488, 'job': 'Director', 'name': 'Steven Spielberg'}\n",
      "{'credit_id': '52fe4275c3a36847f80205ff', 'department': 'Directing', 'gender': 2, 'id': 4786, 'job': 'Director', 'name': 'Richard Attenborough'}\n",
      "{'credit_id': '52fe441b9251416c7502902f', 'department': 'Directing', 'gender': 2, 'id': 54441, 'job': 'Director', 'name': 'James Ivory'}\n",
      "{'credit_id': '52fe4263c3a36847f801a7f5', 'department': 'Directing', 'gender': 2, 'id': 9577, 'job': 'Director', 'name': 'George Roy Hill'}\n",
      "{'credit_id': '52fe4262c3a36847f801a4ed', 'department': 'Directing', 'gender': 2, 'id': 3026, 'job': 'Director', 'name': 'Rob Reiner'}\n",
      "{'credit_id': '52fe4491c3a36847f809d8ad', 'department': 'Directing', 'gender': 2, 'id': 7467, 'job': 'Director', 'name': 'David Fincher'}\n",
      "{'credit_id': '52fe44aec3a368484e030e6b', 'department': 'Directing', 'gender': 2, 'id': 62556, 'job': 'Director', 'name': 'Fred Walton'}\n",
      "{'credit_id': '52fe443ec3a36847f808a953', 'department': 'Directing', 'gender': 2, 'id': 1776, 'job': 'Director', 'name': 'Francis Ford Coppola'}\n",
      "{'credit_id': '52fe4303c3a36847f8033d97', 'department': 'Directing', 'gender': 2, 'id': 1032, 'job': 'Director', 'name': 'Martin Scorsese'}\n",
      "{'credit_id': '52fe4447c3a36847f808cbf7', 'department': 'Directing', 'gender': 0, 'id': 1035, 'job': 'Director', 'name': 'Paul Schrader'}\n",
      "{'credit_id': '52fe423cc3a36847f800e5cd', 'department': 'Directing', 'gender': 2, 'id': 5140, 'job': 'Director', 'name': 'Wes Craven'}\n",
      "{'credit_id': '52fe4277c3a36847f8020e55', 'department': 'Directing', 'gender': 2, 'id': 7187, 'job': 'Director', 'name': 'Richard Donner'}\n",
      "{'credit_id': '52fe44919251416c91015519', 'department': 'Directing', 'gender': 2, 'id': 19450, 'job': 'Director', 'name': 'Bob Rafelson'}\n",
      "{'credit_id': '52fe44b7c3a36847f80a5f55', 'department': 'Directing', 'gender': 2, 'id': 1979, 'job': 'Director', 'name': 'Kevin Spacey'}\n",
      "{'credit_id': '52fe44bcc3a368484e034055', 'department': 'Directing', 'gender': 0, 'id': 10400, 'job': 'Director', 'name': 'Barbra Streisand'}\n",
      "{'credit_id': '52fe4226c3a36847f8007b41', 'department': 'Directing', 'gender': 2, 'id': 2388, 'job': 'Director', 'name': 'Jonathan Frakes'}\n",
      "{'credit_id': '52fe4487c3a36847f809b371', 'department': 'Directing', 'gender': 2, 'id': 33433, 'job': 'Director', 'name': 'Scott Hicks'}\n",
      "{'credit_id': '52fe44ee9251416c75045e75', 'department': 'Directing', 'gender': 2, 'id': 879, 'job': 'Director', 'name': 'Billy Bob Thornton'}\n",
      "{'credit_id': '52fe44e0c3a36847f80af6cf', 'department': 'Directing', 'gender': 2, 'id': 13581, 'job': 'Director', 'name': 'Brian Levant'}\n",
      "{'credit_id': '52fe42ffc3a36847f8032a2d', 'department': 'Directing', 'gender': 2, 'id': 16938, 'job': 'Director', 'name': 'Renny Harlin'}\n",
      "{'credit_id': '52fe421fc3a36847f8005a53', 'department': 'Directing', 'gender': 2, 'id': 1744, 'job': 'Director', 'name': 'Robert Wise'}\n",
      "{'credit_id': '52fe4222c3a36847f8006aaf', 'department': 'Directing', 'gender': 2, 'id': 1788, 'job': 'Director', 'name': 'Nicholas Meyer'}\n",
      "{'credit_id': '52fe4222c3a36847f8006965', 'department': 'Directing', 'gender': 2, 'id': 1748, 'job': 'Director', 'name': 'William Shatner'}\n",
      "{'credit_id': '52fe421fc3a36847f8005bed', 'department': 'Directing', 'gender': 2, 'id': 1788, 'job': 'Director', 'name': 'Nicholas Meyer'}\n",
      "{'credit_id': '52fe4220c3a36847f8005e57', 'department': 'Directing', 'gender': 2, 'id': 1749, 'job': 'Director', 'name': 'Leonard Nimoy'}\n",
      "{'credit_id': '52fe4221c3a36847f8006685', 'department': 'Directing', 'gender': 2, 'id': 1749, 'job': 'Director', 'name': 'Leonard Nimoy'}\n",
      "{'credit_id': '52fe423cc3a36847f800e513', 'department': 'Directing', 'gender': 2, 'id': 510, 'job': 'Director', 'name': 'Tim Burton'}\n",
      "{'credit_id': '52fe44ab9251416c7503ce57', 'department': 'Directing', 'gender': 2, 'id': 56828, 'job': 'Director', 'name': 'Christopher Cain'}\n",
      "{'credit_id': '52fe425fc3a36847f80193c1', 'department': 'Directing', 'gender': 2, 'id': 8876, 'job': 'Director', 'name': 'Randal Kleiser'}\n",
      "{'credit_id': '52fe4255c3a36847f801601f', 'department': 'Directing', 'gender': 2, 'id': 488, 'job': 'Director', 'name': 'Steven Spielberg'}\n",
      "{'credit_id': '52fe4255c3a36847f801610b', 'department': 'Directing', 'gender': 2, 'id': 16187, 'job': 'Director', 'name': 'Jeannot Szwarc'}\n",
      "{'credit_id': '52fe47479251416c75093c47', 'department': 'Directing', 'gender': 2, 'id': 13426, 'job': 'Director', 'name': 'Peter Segal'}\n",
      "{'credit_id': '52fe4214c3a36847f80022eb', 'department': 'Directing', 'gender': 2, 'id': 510, 'job': 'Director', 'name': 'Tim Burton'}\n",
      "{'credit_id': '52fe44f1c3a36847f80b33bb', 'department': 'Directing', 'gender': 2, 'id': 11649, 'job': 'Director', 'name': 'Cameron Crowe'}\n",
      "{'credit_id': '52fe4534c3a36847f80c1e3b', 'department': 'Directing', 'gender': 2, 'id': 59635, 'job': 'Director', 'name': 'Jerry Zaks'}\n",
      "{'credit_id': '52fe44a79251416c910182a5', 'department': 'Directing', 'gender': 2, 'id': 3026, 'job': 'Director', 'name': 'Rob Reiner'}\n",
      "{'credit_id': '52fe438dc3a36847f805ced1', 'department': 'Directing', 'gender': 2, 'id': 17403, 'job': 'Director', 'name': 'Mike Judge'}\n",
      "{'credit_id': '52fe43b3c3a36847f8068f29', 'department': 'Directing', 'gender': 2, 'id': 5140, 'job': 'Director', 'name': 'Wes Craven'}\n",
      "{'credit_id': '52fe44eec3a36847f80b25d3', 'department': 'Directing', 'gender': 2, 'id': 638, 'job': 'Director', 'name': 'Michael Mann'}\n",
      "{'credit_id': '52fe43869251416c75013bc9', 'department': 'Directing', 'gender': 2, 'id': 11181, 'job': 'Director', 'name': 'Kenneth Branagh'}\n",
      "{'credit_id': '52fe44bac3a36847f80a6c35', 'department': 'Directing', 'gender': 2, 'id': 9168, 'job': 'Director', 'name': 'Alan Parker'}\n",
      "{'credit_id': '52fe45609251416c91030175', 'department': 'Directing', 'gender': 2, 'id': 101767, 'job': 'Director', 'name': 'Robert Butler'}\n",
      "{'credit_id': '52fe4512c3a36847f80babc1', 'department': 'Directing', 'gender': 2, 'id': 21370, 'job': 'Director', 'name': 'Roger Donaldson'}\n",
      "{'credit_id': '530e9cbec3a36874750001f9', 'department': 'Directing', 'gender': 2, 'id': 122449, 'job': 'Director', 'name': 'Steve James'}\n",
      "{'credit_id': '52fe46d59251416c75085103', 'department': 'Directing', 'gender': 2, 'id': 13524, 'job': 'Director', 'name': 'Christopher Guest'}\n",
      "{'credit_id': '52fe4212c3a36847f8001cd1', 'department': 'Directing', 'gender': 2, 'id': 190, 'job': 'Director', 'name': 'Clint Eastwood'}\n",
      "{'credit_id': '52fe44eec3a36847f80b2773', 'department': 'Directing', 'gender': 2, 'id': 10723, 'job': 'Director', 'name': 'Mike Newell'}\n",
      "{'credit_id': '52fe4572c3a368484e05ba13', 'department': 'Directing', 'gender': 1, 'id': 6495, 'job': 'Director', 'name': 'Mira Nair'}\n",
      "{'credit_id': '52fe4541c3a368484e04fb95', 'department': 'Directing', 'gender': 2, 'id': 120515, 'job': 'Director', 'name': 'Theodore Witcher'}\n",
      "{'credit_id': '52fe43039251416c75000187', 'department': 'Directing', 'gender': 2, 'id': 13015, 'job': 'Director', 'name': 'Phillip Noyce'}\n",
      "{'credit_id': '52fe44e5c3a36847f80b07eb', 'department': 'Directing', 'gender': 2, 'id': 19684, 'job': 'Director', 'name': 'Bille August'}\n",
      "{'credit_id': '52fe4305c3a36847f8034951', 'department': 'Directing', 'gender': 2, 'id': 4499, 'job': 'Director', 'name': 'Tom Shadyac'}\n",
      "{'credit_id': '52fe46999251416c7507d671', 'department': 'Directing', 'gender': 2, 'id': 16395, 'job': 'Director', 'name': 'Gregory Nava'}\n",
      "{'credit_id': '52fe43c4c3a36847f806e2b5', 'department': 'Directing', 'gender': 2, 'id': 6349, 'job': 'Director', 'name': 'Alan J. Pakula'}\n",
      "{'credit_id': '52fe44a2c3a368484e02e3b1', 'department': 'Directing', 'gender': 2, 'id': 61411, 'job': 'Director', 'name': 'Mark Dindal'}\n",
      "{'credit_id': '52fe4956c3a368484e126659', 'department': 'Directing', 'gender': 0, 'id': 142513, 'job': 'Director', 'name': 'Emma-Kate Croghan'}\n",
      "{'credit_id': '52fe44edc3a36847f80b253f', 'department': 'Directing', 'gender': 2, 'id': 26648, 'job': 'Director', 'name': 'Luis Llosa'}\n",
      "{'credit_id': '52fe44f6c3a36847f80b48fd', 'department': 'Directing', 'gender': 0, 'id': 58294, 'job': 'Director', 'name': 'George Armitage'}\n",
      "{'credit_id': '52fe45bf9251416c75061135', 'department': 'Directing', 'gender': 2, 'id': 2691, 'job': 'Director', 'name': 'Tom Schulman'}\n",
      "{'credit_id': '52fe435f9251416c7500ddcf', 'department': 'Directing', 'gender': 2, 'id': 8843, 'job': 'Director', 'name': 'Mick Jackson'}\n",
      "{'credit_id': '52fe427ac3a36847f8021eb3', 'department': 'Directing', 'gender': 2, 'id': 6737, 'job': 'Director', 'name': 'Jay Roach'}\n",
      "{'credit_id': '52fe433cc3a36847f8044b9d', 'department': 'Directing', 'gender': 2, 'id': 7213, 'job': 'Director', 'name': 'Jonathan Mostow'}\n",
      "{'credit_id': '546a21b122136e68cf0038e6', 'department': 'Directing', 'gender': 0, 'id': 17268, 'job': 'Director', 'name': 'Ronny Yu'}\n",
      "{'credit_id': '52fe420fc3a36847f8000b43', 'department': 'Directing', 'gender': 2, 'id': 59, 'job': 'Director', 'name': 'Luc Besson'}\n",
      "{'credit_id': '52fe4238c3a36847f800d3ad', 'department': 'Directing', 'gender': 2, 'id': 488, 'job': 'Director', 'name': 'Steven Spielberg'}\n",
      "{'credit_id': '52fe430ec3a36847f803706b', 'department': 'Directing', 'gender': 2, 'id': 12786, 'job': 'Director', 'name': 'Simon West'}\n",
      "{'credit_id': '52fe4307c3a36847f8034ff5', 'department': 'Directing', 'gender': 2, 'id': 2209, 'job': 'Director', 'name': 'Jan de Bont'}\n",
      "{'credit_id': '52fe4241c3a36847f800fe9f', 'department': 'Directing', 'gender': 2, 'id': 5572, 'job': 'Director', 'name': 'Joel Schumacher'}\n"
     ]
    },
    {
     "ename": "IndexError",
     "evalue": "list index out of range",
     "output_type": "error",
     "traceback": [
      "\u001b[1;31m---------------------------------------------------------------------------\u001b[0m",
      "\u001b[1;31mIndexError\u001b[0m                                Traceback (most recent call last)",
      "\u001b[1;32m<ipython-input-218-3c3d0ab963e9>\u001b[0m in \u001b[0;36m<module>\u001b[1;34m\u001b[0m\n\u001b[1;32m----> 1\u001b[1;33m \u001b[0mkw_ctr_director\u001b[0m\u001b[1;33m(\u001b[0m\u001b[0mdf3\u001b[0m\u001b[1;33m,\u001b[0m \u001b[1;34m'crew'\u001b[0m\u001b[1;33m,\u001b[0m \u001b[1;34m'name'\u001b[0m\u001b[1;33m)\u001b[0m\u001b[1;33m\u001b[0m\u001b[0m\n\u001b[0m",
      "\u001b[1;32m<ipython-input-217-8330432dca80>\u001b[0m in \u001b[0;36mkw_ctr_director\u001b[1;34m(df, column, id_name)\u001b[0m\n\u001b[0;32m      3\u001b[0m     \u001b[1;32mfor\u001b[0m \u001b[0mrow\u001b[0m \u001b[1;32min\u001b[0m \u001b[0mdf\u001b[0m\u001b[1;33m[\u001b[0m\u001b[0mcolumn\u001b[0m\u001b[1;33m]\u001b[0m\u001b[1;33m:\u001b[0m\u001b[1;33m\u001b[0m\u001b[0m\n\u001b[0;32m      4\u001b[0m         \u001b[0mrow\u001b[0m \u001b[1;33m=\u001b[0m \u001b[0mjson\u001b[0m\u001b[1;33m.\u001b[0m\u001b[0mloads\u001b[0m\u001b[1;33m(\u001b[0m\u001b[0mrow\u001b[0m\u001b[1;33m)\u001b[0m\u001b[1;33m\u001b[0m\u001b[0m\n\u001b[1;32m----> 5\u001b[1;33m         \u001b[0mdirector_entry\u001b[0m \u001b[1;33m=\u001b[0m \u001b[1;33m[\u001b[0m\u001b[0mcredit\u001b[0m \u001b[1;32mfor\u001b[0m \u001b[0mcredit\u001b[0m \u001b[1;32min\u001b[0m \u001b[0mrow\u001b[0m \u001b[1;32mif\u001b[0m \u001b[0mcredit\u001b[0m\u001b[1;33m[\u001b[0m\u001b[1;34m'job'\u001b[0m\u001b[1;33m]\u001b[0m\u001b[1;33m==\u001b[0m\u001b[1;34m'Director'\u001b[0m\u001b[1;33m]\u001b[0m\u001b[1;33m[\u001b[0m\u001b[1;36m0\u001b[0m\u001b[1;33m]\u001b[0m\u001b[1;33m\u001b[0m\u001b[0m\n\u001b[0m\u001b[0;32m      6\u001b[0m         \u001b[0mprint\u001b[0m\u001b[1;33m(\u001b[0m\u001b[0mdirector_entry\u001b[0m\u001b[1;33m)\u001b[0m\u001b[1;33m\u001b[0m\u001b[0m\n\u001b[0;32m      7\u001b[0m         \u001b[0mcnt\u001b[0m\u001b[1;33m[\u001b[0m\u001b[0mdirector_entry\u001b[0m\u001b[1;33m[\u001b[0m\u001b[0mid_name\u001b[0m\u001b[1;33m]\u001b[0m\u001b[1;33m]\u001b[0m \u001b[1;33m+=\u001b[0m \u001b[1;36m1\u001b[0m\u001b[1;33m\u001b[0m\u001b[0m\n",
      "\u001b[1;31mIndexError\u001b[0m: list index out of range"
     ]
    }
   ],
   "source": [
    "kw_ctr_director(df3, 'crew', 'name')"
   ]
  },
  {
   "cell_type": "code",
   "execution_count": null,
   "metadata": {},
   "outputs": [],
   "source": []
  },
  {
   "cell_type": "code",
   "execution_count": null,
   "metadata": {},
   "outputs": [],
   "source": []
  },
  {
   "cell_type": "code",
   "execution_count": null,
   "metadata": {},
   "outputs": [],
   "source": []
  }
 ],
 "metadata": {
  "kernelspec": {
   "display_name": "qri_automl_clone2",
   "language": "python",
   "name": "qri_automl_clone2"
  },
  "language_info": {
   "codemirror_mode": {
    "name": "ipython",
    "version": 3
   },
   "file_extension": ".py",
   "mimetype": "text/x-python",
   "name": "python",
   "nbconvert_exporter": "python",
   "pygments_lexer": "ipython3",
   "version": "3.6.6"
  }
 },
 "nbformat": 4,
 "nbformat_minor": 2
}
