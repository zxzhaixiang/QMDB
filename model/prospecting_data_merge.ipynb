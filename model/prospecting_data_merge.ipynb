{
 "cells": [
  {
   "cell_type": "code",
   "execution_count": 1,
   "metadata": {},
   "outputs": [],
   "source": [
    "import pandas as pd"
   ]
  },
  {
   "cell_type": "markdown",
   "metadata": {},
   "source": [
    "* read_csvs"
   ]
  },
  {
   "cell_type": "code",
   "execution_count": 115,
   "metadata": {},
   "outputs": [],
   "source": [
    "# movies_df = pd.read_csv('data/movielens_latest/ml-latest-lean/movies.csv')\n",
    "ratings_df = pd.read_csv('data/movielens_latest/ml-latest-lean/ratings.csv', compression='gzip') #\n",
    "links_df = pd.read_csv('data/movielens_latest/ml-latest-lean/links.csv') # \n",
    "tmdb_movies_df = pd.read_csv('data/tmdb_5000/tmdb_5000_movies.csv') # \n",
    "# tmdb_credits_df = pd.read_csv('data/tmdb_5000/tmdb_5000_credits.csv')"
   ]
  },
  {
   "cell_type": "markdown",
   "metadata": {},
   "source": [
    "* get ids to link other datasets"
   ]
  },
  {
   "cell_type": "code",
   "execution_count": 116,
   "metadata": {},
   "outputs": [],
   "source": [
    "df1 = pd.merge(ratings_df, links_df, on='movieId', how='inner')\n",
    "assert ratings_df.shape[0]==df1.shape[0]"
   ]
  },
  {
   "cell_type": "markdown",
   "metadata": {},
   "source": [
    "* merge ratings with tmdb"
   ]
  },
  {
   "cell_type": "code",
   "execution_count": 117,
   "metadata": {},
   "outputs": [],
   "source": [
    "df1 = df1.loc[df1['tmdbId'].notnull(), :]\n",
    "df1['tmdbId'] = df1['tmdbId'].astype(int)\n",
    "df2 = pd.merge(df1, tmdb_movies_df, left_on='tmdbId', right_on='id', how='inner')"
   ]
  },
  {
   "cell_type": "code",
   "execution_count": 118,
   "metadata": {},
   "outputs": [
    {
     "name": "stdout",
     "output_type": "stream",
     "text": [
      "Of the total 5405815 ratings we have tmdb information on 3359071 (62.1%).\n",
      "Of the total 10708 movies we have tmdb information on 3868 (36.1%).\n"
     ]
    }
   ],
   "source": [
    "print('Of the total {} ratings we have tmdb information on {} ({:.1f}%).'.format(df1.shape[0], df2.shape[0], 100*df2.shape[0]/df1.shape[0]))\n",
    "print('Of the total {} movies we have tmdb information on {} ({:.1f}%).'.format(len(df1['movieId'].unique()), len(df2['movieId'].unique()), 100*len(df2['movieId'].unique())/len(df1['movieId'].unique())))"
   ]
  },
  {
   "cell_type": "code",
   "execution_count": null,
   "metadata": {},
   "outputs": [],
   "source": []
  },
  {
   "cell_type": "code",
   "execution_count": null,
   "metadata": {},
   "outputs": [],
   "source": []
  }
 ],
 "metadata": {
  "kernelspec": {
   "display_name": "qri_automl_clone2",
   "language": "python",
   "name": "qri_automl_clone2"
  },
  "language_info": {
   "codemirror_mode": {
    "name": "ipython",
    "version": 3
   },
   "file_extension": ".py",
   "mimetype": "text/x-python",
   "name": "python",
   "nbconvert_exporter": "python",
   "pygments_lexer": "ipython3",
   "version": "3.6.6"
  }
 },
 "nbformat": 4,
 "nbformat_minor": 2
}
