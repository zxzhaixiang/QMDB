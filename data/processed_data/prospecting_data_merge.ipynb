{
 "cells": [
  {
   "cell_type": "code",
   "execution_count": 1,
   "metadata": {},
   "outputs": [],
   "source": [
    "import pandas as pd\n",
    "import matplotlib.pyplot as plt\n",
    "from collections import Counter\n",
    "import numpy as np\n",
    "import json"
   ]
  },
  {
   "cell_type": "markdown",
   "metadata": {},
   "source": [
    "# Create master datasets"
   ]
  },
  {
   "cell_type": "markdown",
   "metadata": {},
   "source": [
    "* read_csvs"
   ]
  },
  {
   "cell_type": "code",
   "execution_count": 30,
   "metadata": {},
   "outputs": [],
   "source": [
    "movies_df = pd.read_csv('../movielens_latest/ml-latest-lean/movies.csv')\n",
    "ratings_df = pd.read_csv('../movielens_latest/ml-latest-lean/ratings.csv', compression='gzip') #\n",
    "links_df = pd.read_csv('../movielens_latest/ml-latest-lean/links.csv') # \n",
    "tmdb_movies_df = pd.read_csv('../tmdb_5000/tmdb_5000_movies.csv') # \n",
    "tmdb_credits_df = pd.read_csv('../tmdb_5000/tmdb_5000_credits.csv')\n",
    "directors_df = pd.read_csv('../../model/director_names.csv', encoding = \"ISO-8859-1\")"
   ]
  },
  {
   "cell_type": "code",
   "execution_count": 31,
   "metadata": {},
   "outputs": [],
   "source": [
    "tags_df = pd.read_csv('../movielens_latest/ml-latest-lean/tags.csv')"
   ]
  },
  {
   "cell_type": "markdown",
   "metadata": {},
   "source": [
    "* merge ratings with tmdb"
   ]
  },
  {
   "cell_type": "code",
   "execution_count": 3,
   "metadata": {},
   "outputs": [],
   "source": [
    "# df1 = pd.merge(ratings_df, links_df, on='movieId', how='inner')\n",
    "# assert ratings_df.shape[0]==df1.shape[0]"
   ]
  },
  {
   "cell_type": "code",
   "execution_count": 4,
   "metadata": {},
   "outputs": [],
   "source": [
    "# df1 = df1.loc[df1['tmdbId'].notnull(), :]\n",
    "# df1['tmdbId'] = df1['tmdbId'].astype(int)\n",
    "# df2 = pd.merge(df1, tmdb_movies_df, left_on='tmdbId', right_on='id', how='inner')"
   ]
  },
  {
   "cell_type": "code",
   "execution_count": 5,
   "metadata": {},
   "outputs": [],
   "source": [
    "# print('Of the total {} ratings we have tmdb information on {} ({:.1f}%).'.format(df1.shape[0], df2.shape[0], 100*df2.shape[0]/df1.shape[0]))\n",
    "# print('Of the total {} movies we have tmdb information on {} ({:.1f}%).'.format(len(df1['movieId'].unique()), len(df2['movieId'].unique()), 100*len(df2['movieId'].unique())/len(df1['movieId'].unique())))"
   ]
  },
  {
   "cell_type": "markdown",
   "metadata": {},
   "source": [
    "* merge movies with tmdb"
   ]
  },
  {
   "cell_type": "code",
   "execution_count": 6,
   "metadata": {},
   "outputs": [],
   "source": [
    "df1 = pd.merge(movies_df, links_df, on='movieId', how='inner')\n",
    "assert movies_df.shape[0]==df1.shape[0]"
   ]
  },
  {
   "cell_type": "code",
   "execution_count": 7,
   "metadata": {},
   "outputs": [],
   "source": [
    "df1 = df1.loc[df1['tmdbId'].notnull(), :]\n",
    "df1['tmdbId'] = df1['tmdbId'].astype(int)\n",
    "df2 = pd.merge(df1, tmdb_movies_df, left_on='tmdbId', right_on='id', how='inner')"
   ]
  },
  {
   "cell_type": "code",
   "execution_count": 8,
   "metadata": {},
   "outputs": [
    {
     "name": "stdout",
     "output_type": "stream",
     "text": [
      "Of the total 10708 movies we have tmdb information on 3868 (36.1%).\n"
     ]
    }
   ],
   "source": [
    "print('Of the total {} movies we have tmdb information on {} ({:.1f}%).'.format(df1.shape[0], df2.shape[0], 100*df2.shape[0]/df1.shape[0]))"
   ]
  },
  {
   "cell_type": "markdown",
   "metadata": {},
   "source": [
    "* merge in credits (cast etc)"
   ]
  },
  {
   "cell_type": "code",
   "execution_count": 9,
   "metadata": {},
   "outputs": [],
   "source": [
    "df3 = pd.merge(df2, tmdb_credits_df, left_on='tmdbId', right_on='movie_id', how='inner')\n",
    "assert df2.shape[0]==df3.shape[0]"
   ]
  },
  {
   "cell_type": "markdown",
   "metadata": {},
   "source": [
    "* parsing"
   ]
  },
  {
   "cell_type": "code",
   "execution_count": 10,
   "metadata": {},
   "outputs": [],
   "source": [
    "df4 = df3.copy()"
   ]
  },
  {
   "cell_type": "code",
   "execution_count": 11,
   "metadata": {},
   "outputs": [],
   "source": [
    "def genre_parser(genre_str):\n",
    "    kws = []\n",
    "    for i in json.loads(genre_str):\n",
    "        kws.extend(i['name'].lower().split(' '))\n",
    "    kws = list(set(kws))\n",
    "    return kws"
   ]
  },
  {
   "cell_type": "code",
   "execution_count": 12,
   "metadata": {},
   "outputs": [],
   "source": [
    "df4['genre_kws'] = df4['genres_y'].apply(genre_parser)"
   ]
  },
  {
   "cell_type": "code",
   "execution_count": 13,
   "metadata": {},
   "outputs": [],
   "source": [
    "def keyword_parser(kw_str):\n",
    "    kws = []\n",
    "    for i in json.loads(kw_str):\n",
    "        if i['name'] in ['duringcreditsstinger', 'aftercreditsstinger']:\n",
    "            i['name'] = 'epilogue'\n",
    "        kws.extend(i['name'].lower().split(' '))\n",
    "    kws = list(set(kws))\n",
    "    return kws"
   ]
  },
  {
   "cell_type": "code",
   "execution_count": 14,
   "metadata": {},
   "outputs": [],
   "source": [
    "df4['description_kws'] = df4['keywords'].apply(keyword_parser)"
   ]
  },
  {
   "cell_type": "code",
   "execution_count": 15,
   "metadata": {},
   "outputs": [],
   "source": [
    "def cast_parser(cast_str):\n",
    "    kws = []\n",
    "    top_bill = 0\n",
    "    for i in json.loads(cast_str):\n",
    "        top_bill = top_bill+1\n",
    "        if top_bill<=3:\n",
    "            kws.extend(i['name'].split(' '))\n",
    "    kws = list(set(kws))\n",
    "    return kws"
   ]
  },
  {
   "cell_type": "code",
   "execution_count": 16,
   "metadata": {},
   "outputs": [],
   "source": [
    "df4['cast_kws'] = df4['cast'].apply(cast_parser)"
   ]
  },
  {
   "cell_type": "code",
   "execution_count": 17,
   "metadata": {},
   "outputs": [],
   "source": [
    "df4['qmdbId'] = df4['movieId'].index"
   ]
  },
  {
   "cell_type": "code",
   "execution_count": 18,
   "metadata": {},
   "outputs": [],
   "source": [
    "df4['year'] = df4['release_date'].apply(lambda x: x[:4]).astype(int)"
   ]
  },
  {
   "cell_type": "code",
   "execution_count": 20,
   "metadata": {},
   "outputs": [],
   "source": [
    "# add director\n",
    "df5 = pd.merge(df4, directors_df, on='movie_id', how='left')\n",
    "df5.loc[df5['title']=='Dream with the Fishes', 'director_name'] = 'Finn Taylor'\n",
    "assert np.sum(df5['director_name'].isnull())==0\n",
    "\n",
    "df5['director_name'] = df5['director_name'].apply(lambda x: x.split(' '))\n",
    "\n",
    "actor_director = []\n",
    "for cast, director in df5[['cast_kws','director_name']].values:\n",
    "    cast = list(cast)\n",
    "    director = list(director)\n",
    "    actor_director.append(cast+director)\n",
    "\n",
    "df5['cast_kws'] = actor_director"
   ]
  },
  {
   "cell_type": "code",
   "execution_count": 33,
   "metadata": {},
   "outputs": [],
   "source": [
    "df6 = df5[['qmdbId','movieId','tmdbId','imdbId','year','genre_kws','description_kws','cast_kws']]"
   ]
  },
  {
   "cell_type": "code",
   "execution_count": 34,
   "metadata": {},
   "outputs": [
    {
     "data": {
      "text/html": [
       "<div>\n",
       "<style scoped>\n",
       "    .dataframe tbody tr th:only-of-type {\n",
       "        vertical-align: middle;\n",
       "    }\n",
       "\n",
       "    .dataframe tbody tr th {\n",
       "        vertical-align: top;\n",
       "    }\n",
       "\n",
       "    .dataframe thead th {\n",
       "        text-align: right;\n",
       "    }\n",
       "</style>\n",
       "<table border=\"1\" class=\"dataframe\">\n",
       "  <thead>\n",
       "    <tr style=\"text-align: right;\">\n",
       "      <th></th>\n",
       "      <th>qmdbId</th>\n",
       "      <th>movieId</th>\n",
       "      <th>tmdbId</th>\n",
       "      <th>imdbId</th>\n",
       "      <th>year</th>\n",
       "      <th>genre_kws</th>\n",
       "      <th>description_kws</th>\n",
       "      <th>cast_kws</th>\n",
       "    </tr>\n",
       "  </thead>\n",
       "  <tbody>\n",
       "    <tr>\n",
       "      <th>0</th>\n",
       "      <td>0</td>\n",
       "      <td>0</td>\n",
       "      <td>862</td>\n",
       "      <td>114709</td>\n",
       "      <td>1995</td>\n",
       "      <td>[comedy, family, animation]</td>\n",
       "      <td>[comes, friends, next, jealousy, rivalry, life...</td>\n",
       "      <td>[Rickles, Tom, Allen, Hanks, Tim, Don, John, L...</td>\n",
       "    </tr>\n",
       "    <tr>\n",
       "      <th>1</th>\n",
       "      <td>1</td>\n",
       "      <td>9</td>\n",
       "      <td>710</td>\n",
       "      <td>113189</td>\n",
       "      <td>1995</td>\n",
       "      <td>[action, adventure, thriller]</td>\n",
       "      <td>[pulse, base, special, ejection, cuba, accused...</td>\n",
       "      <td>[Brosnan, Pierce, Izabella, Sean, Scorupco, Be...</td>\n",
       "    </tr>\n",
       "    <tr>\n",
       "      <th>2</th>\n",
       "      <td>2</td>\n",
       "      <td>10</td>\n",
       "      <td>9087</td>\n",
       "      <td>112346</td>\n",
       "      <td>1995</td>\n",
       "      <td>[comedy, drama, romance]</td>\n",
       "      <td>[usa, widower, house, white, wildlife, new, co...</td>\n",
       "      <td>[Douglas, Fox, Bening, Annette, Michael, J., R...</td>\n",
       "    </tr>\n",
       "  </tbody>\n",
       "</table>\n",
       "</div>"
      ],
      "text/plain": [
       "   qmdbId  movieId  tmdbId  imdbId  year                      genre_kws  \\\n",
       "0       0        0     862  114709  1995    [comedy, family, animation]   \n",
       "1       1        9     710  113189  1995  [action, adventure, thriller]   \n",
       "2       2       10    9087  112346  1995       [comedy, drama, romance]   \n",
       "\n",
       "                                     description_kws  \\\n",
       "0  [comes, friends, next, jealousy, rivalry, life...   \n",
       "1  [pulse, base, special, ejection, cuba, accused...   \n",
       "2  [usa, widower, house, white, wildlife, new, co...   \n",
       "\n",
       "                                            cast_kws  \n",
       "0  [Rickles, Tom, Allen, Hanks, Tim, Don, John, L...  \n",
       "1  [Brosnan, Pierce, Izabella, Sean, Scorupco, Be...  \n",
       "2  [Douglas, Fox, Bening, Annette, Michael, J., R...  "
      ]
     },
     "execution_count": 34,
     "metadata": {},
     "output_type": "execute_result"
    }
   ],
   "source": [
    "df6.head(3)"
   ]
  },
  {
   "cell_type": "markdown",
   "metadata": {},
   "source": [
    "# Outputs"
   ]
  },
  {
   "cell_type": "code",
   "execution_count": 35,
   "metadata": {},
   "outputs": [],
   "source": [
    "movies_with_kws_df = pd.merge(movies_df, df6, on='movieId', how='inner')\n",
    "assert movies_with_kws_df.shape[0]==df6.shape[0]\n",
    "ratings_with_kws_df = pd.merge(ratings_df, df6, on='movieId', how='inner')"
   ]
  },
  {
   "cell_type": "code",
   "execution_count": 36,
   "metadata": {},
   "outputs": [],
   "source": [
    "movies_with_kws_df.to_csv('../processed_data/movies_with_kws.csv', index=False)\n",
    "ratings_with_kws_df.to_csv('../processed_data/ratings_with_kws.csv', compression='gzip', index=False)\n",
    "df6.to_csv('../processed_data/keyword_lookup.csv', index=False)"
   ]
  },
  {
   "cell_type": "code",
   "execution_count": null,
   "metadata": {},
   "outputs": [],
   "source": []
  },
  {
   "cell_type": "markdown",
   "metadata": {},
   "source": [
    "# Summary statistics"
   ]
  },
  {
   "cell_type": "markdown",
   "metadata": {},
   "source": [
    "* count occurence of each keyword"
   ]
  },
  {
   "cell_type": "code",
   "execution_count": 23,
   "metadata": {},
   "outputs": [
    {
     "data": {
      "text/plain": [
       "Index(['movieId', 'title_x', 'genres_x', 'imdbId', 'tmdbId', 'budget',\n",
       "       'genres_y', 'homepage', 'id', 'keywords', 'original_language',\n",
       "       'original_title', 'overview', 'popularity', 'production_companies',\n",
       "       'production_countries', 'release_date', 'revenue', 'runtime',\n",
       "       'spoken_languages', 'status', 'tagline', 'title_y', 'vote_average',\n",
       "       'vote_count', 'movie_id', 'title', 'cast', 'crew'],\n",
       "      dtype='object')"
      ]
     },
     "execution_count": 23,
     "metadata": {},
     "output_type": "execute_result"
    }
   ],
   "source": [
    "df3.columns"
   ]
  },
  {
   "cell_type": "markdown",
   "metadata": {},
   "source": [
    "* genres_y, keywords, spoken_languages, production_countries, subset_crew, check_cast_id=actor_id"
   ]
  },
  {
   "cell_type": "code",
   "execution_count": 31,
   "metadata": {},
   "outputs": [],
   "source": [
    "def kw_ctr(df, column, id_name):\n",
    "    cnt = Counter()\n",
    "    for row in df[column]:\n",
    "        row = json.loads(row)\n",
    "        for keyword in row:\n",
    "            cnt[keyword[id_name]] += 1\n",
    "    print('{} has {} unique keywords.'.format(column, len(cnt)))\n",
    "    return cnt"
   ]
  },
  {
   "cell_type": "code",
   "execution_count": 32,
   "metadata": {},
   "outputs": [],
   "source": [
    "# def kw_ctr(df, column, id_name):\n",
    "#     cnt = Counter()\n",
    "#     for row in df[column]:\n",
    "#         row = json.loads(row)\n",
    "#         top_bill = 0\n",
    "#         for keyword in row:\n",
    "#             top_bill = top_bill+1\n",
    "#             if top_bill<=3:\n",
    "#                 cnt[keyword[id_name]] += 1\n",
    "#     print('{} has {} unique keywords.'.format(column, len(cnt)))\n",
    "#     return cnt"
   ]
  },
  {
   "cell_type": "markdown",
   "metadata": {},
   "source": [
    "* genre keywords"
   ]
  },
  {
   "cell_type": "code",
   "execution_count": 33,
   "metadata": {},
   "outputs": [
    {
     "name": "stdout",
     "output_type": "stream",
     "text": [
      "genres_y has 20 unique keywords.\n"
     ]
    },
    {
     "data": {
      "text/plain": [
       "<matplotlib.axes._subplots.AxesSubplot at 0x1f535ac0f60>"
      ]
     },
     "execution_count": 33,
     "metadata": {},
     "output_type": "execute_result"
    },
    {
     "data": {
      "image/png": "[encoded data removed]",
      "text/plain": [
       "<Figure size 432x288 with 1 Axes>"
      ]
     },
     "metadata": {
      "needs_background": "light"
     },
     "output_type": "display_data"
    }
   ],
   "source": [
    "genre_ct = pd.Series(kw_ctr(df3, 'genres_y', 'name')) # 'id'\n",
    "genre_ct.sort_values().plot(kind='barh', color='blue')"
   ]
  },
  {
   "cell_type": "markdown",
   "metadata": {},
   "source": [
    "* description keywords"
   ]
  },
  {
   "cell_type": "code",
   "execution_count": 34,
   "metadata": {},
   "outputs": [
    {
     "name": "stdout",
     "output_type": "stream",
     "text": [
      "keywords has 9393 unique keywords.\n"
     ]
    }
   ],
   "source": [
    "keywords_ct = pd.Series(kw_ctr(df3, 'keywords', 'id'))"
   ]
  },
  {
   "cell_type": "code",
   "execution_count": 35,
   "metadata": {},
   "outputs": [
    {
     "data": {
      "text/plain": [
       "<matplotlib.axes._subplots.AxesSubplot at 0x1f535e1ec18>"
      ]
     },
     "execution_count": 35,
     "metadata": {},
     "output_type": "execute_result"
    },
    {
     "data": {
      "image/png": "[encoded data removed]",
      "text/plain": [
       "<Figure size 432x288 with 1 Axes>"
      ]
     },
     "metadata": {
      "needs_background": "light"
     },
     "output_type": "display_data"
    }
   ],
   "source": [
    "keywords_ct.plot(kind='hist', bins=30)"
   ]
  },
  {
   "cell_type": "code",
   "execution_count": 36,
   "metadata": {},
   "outputs": [
    {
     "name": "stdout",
     "output_type": "stream",
     "text": [
      "keywords that appear for 5 or more movies 1602/9393 (17.1%)\n"
     ]
    }
   ],
   "source": [
    "print('keywords that appear for 5 or more movies {}/{} ({:.1f}%)'.format(\n",
    "    np.sum(keywords_ct>=5),\n",
    "    len(keywords_ct),\n",
    "    100*np.sum(keywords_ct>=5)/len(keywords_ct),\n",
    ")) "
   ]
  },
  {
   "cell_type": "markdown",
   "metadata": {},
   "source": [
    "* 10 most common words"
   ]
  },
  {
   "cell_type": "code",
   "execution_count": 39,
   "metadata": {},
   "outputs": [
    {
     "name": "stdout",
     "output_type": "stream",
     "text": [
      "keywords has 9393 unique keywords.\n"
     ]
    },
    {
     "data": {
      "text/plain": [
       "duringcreditsstinger       289\n",
       "independent film           241\n",
       "woman director             233\n",
       "based on novel             185\n",
       "murder                     168\n",
       "aftercreditsstinger        161\n",
       "violence                   140\n",
       "dystopia                   137\n",
       "revenge                    108\n",
       "sport                      102\n",
       "friendship                  97\n",
       "sex                         96\n",
       "musical                     92\n",
       "sequel                      91\n",
       "biography                   91\n",
       "teenager                    90\n",
       "3d                          88\n",
       "new york                    86\n",
       "love                        83\n",
       "police                      79\n",
       "los angeles                 78\n",
       "suspense                    77\n",
       "alien                       74\n",
       "high school                 71\n",
       "superhero                   67\n",
       "drug                        67\n",
       "prison                      66\n",
       "dying and death             66\n",
       "london england              65\n",
       "nudity                      64\n",
       "family                      63\n",
       "father son relationship     63\n",
       "daughter                    60\n",
       "wedding                     54\n",
       "remake                      54\n",
       "world war ii                53\n",
       "magic                       53\n",
       "kidnapping                  52\n",
       "corruption                  52\n",
       "serial killer               52\n",
       "suicide                     52\n",
       "based on comic book         52\n",
       "escape                      51\n",
       "party                       49\n",
       "friends                     48\n",
       "airplane                    47\n",
       "fbi                         47\n",
       "investigation               47\n",
       "money                       47\n",
       "time travel                 46\n",
       "dtype: int64"
      ]
     },
     "execution_count": 39,
     "metadata": {},
     "output_type": "execute_result"
    }
   ],
   "source": [
    "keywords_ct = pd.Series(kw_ctr(df3, 'keywords', 'name'))\n",
    "keywords_ct.sort_values(ascending=False)[:50]"
   ]
  },
  {
   "cell_type": "code",
   "execution_count": 30,
   "metadata": {},
   "outputs": [
    {
     "name": "stdout",
     "output_type": "stream",
     "text": [
      "words that appear in 5 or more movie descriptions 1602/9393 (17.1%)\n"
     ]
    }
   ],
   "source": [
    "print('words that appear in 5 or more movie descriptions {}/{} ({:.1f}%)'.format(\n",
    "    np.sum(keywords_ct>=5),\n",
    "    len(keywords_ct),\n",
    "    100*np.sum(keywords_ct>=5)/len(keywords_ct),\n",
    ")) "
   ]
  },
  {
   "cell_type": "markdown",
   "metadata": {},
   "source": [
    "* actor keywords"
   ]
  },
  {
   "cell_type": "code",
   "execution_count": 31,
   "metadata": {},
   "outputs": [
    {
     "name": "stdout",
     "output_type": "stream",
     "text": [
      "cast has 49283 unique keywords.\n"
     ]
    }
   ],
   "source": [
    "actor_ct = pd.Series(kw_ctr(df3, 'cast', 'id'))"
   ]
  },
  {
   "cell_type": "code",
   "execution_count": 32,
   "metadata": {},
   "outputs": [
    {
     "data": {
      "text/plain": [
       "<matplotlib.axes._subplots.AxesSubplot at 0x206006d7ac8>"
      ]
     },
     "execution_count": 32,
     "metadata": {},
     "output_type": "execute_result"
    },
    {
     "data": {
      "image/png": "[encoded data removed]",
      "text/plain": [
       "<Figure size 432x288 with 1 Axes>"
      ]
     },
     "metadata": {
      "needs_background": "light"
     },
     "output_type": "display_data"
    }
   ],
   "source": [
    "actor_ct.plot(kind='hist', bins=30)"
   ]
  },
  {
   "cell_type": "markdown",
   "metadata": {},
   "source": [
    "* 10 most prolific actors"
   ]
  },
  {
   "cell_type": "code",
   "execution_count": 33,
   "metadata": {},
   "outputs": [
    {
     "name": "stdout",
     "output_type": "stream",
     "text": [
      "cast has 48950 unique keywords.\n"
     ]
    },
    {
     "data": {
      "text/plain": [
       "Samuel L. Jackson     63\n",
       "Robert De Niro        54\n",
       "Matt Damon            49\n",
       "Bruce Willis          49\n",
       "Morgan Freeman        45\n",
       "Johnny Depp           40\n",
       "Steve Buscemi         40\n",
       "Liam Neeson           39\n",
       "Owen Wilson           38\n",
       "John Goodman          38\n",
       "Alec Baldwin          38\n",
       "Stanley Tucci         38\n",
       "Brad Pitt             37\n",
       "Nicolas Cage          37\n",
       "Willem Dafoe          36\n",
       "Paul Giamatti         36\n",
       "Jim Broadbent         36\n",
       "Will Ferrell          35\n",
       "Christopher Walken    35\n",
       "J.K. Simmons          35\n",
       "dtype: int64"
      ]
     },
     "execution_count": 33,
     "metadata": {},
     "output_type": "execute_result"
    }
   ],
   "source": [
    "actor_ct = pd.Series(kw_ctr(df3, 'cast', 'name'))\n",
    "actor_ct.sort_values(ascending=False)[:20]"
   ]
  },
  {
   "cell_type": "code",
   "execution_count": 34,
   "metadata": {},
   "outputs": [
    {
     "name": "stdout",
     "output_type": "stream",
     "text": [
      "actors that appear in 5 or more movies 3382/48950 (6.9%)\n"
     ]
    }
   ],
   "source": [
    "print('actors that appear in 5 or more movies {}/{} ({:.1f}%)'.format(\n",
    "    np.sum(actor_ct>=5),\n",
    "    len(actor_ct),\n",
    "    100*np.sum(actor_ct>=5)/len(actor_ct),\n",
    ")) "
   ]
  },
  {
   "cell_type": "markdown",
   "metadata": {},
   "source": [
    "* get director"
   ]
  },
  {
   "cell_type": "code",
   "execution_count": 35,
   "metadata": {},
   "outputs": [],
   "source": [
    "# def kw_ctr_director(df, column, id_name):\n",
    "#     cnt = Counter()\n",
    "#     for row in df[column]:\n",
    "#         row = json.loads(row)\n",
    "#         director_entry = [credit for credit in row if credit['job']=='Director'][0]\n",
    "#         print(director_entry)\n",
    "#         cnt[director_entry[id_name]] += 1\n",
    "#     print('{} has {} unique keywords.'.format(column, len(cnt)))\n",
    "#     return cnt"
   ]
  },
  {
   "cell_type": "code",
   "execution_count": null,
   "metadata": {},
   "outputs": [],
   "source": []
  }
 ],
 "metadata": {
  "kernelspec": {
   "display_name": "qri_automl_clone2",
   "language": "python",
   "name": "qri_automl_clone2"
  },
  "language_info": {
   "codemirror_mode": {
    "name": "ipython",
    "version": 3
   },
   "file_extension": ".py",
   "mimetype": "text/x-python",
   "name": "python",
   "nbconvert_exporter": "python",
   "pygments_lexer": "ipython3",
   "version": "3.6.6"
  }
 },
 "nbformat": 4,
 "nbformat_minor": 2
}
