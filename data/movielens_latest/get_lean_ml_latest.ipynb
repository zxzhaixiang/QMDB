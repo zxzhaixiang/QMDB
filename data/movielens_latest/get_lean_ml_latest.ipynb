{
 "cells": [
  {
   "cell_type": "code",
   "execution_count": null,
   "metadata": {},
   "outputs": [],
   "source": [
    "#get a lean version of the movieLens-latest dataset"
   ]
  },
  {
   "cell_type": "code",
   "execution_count": 1,
   "metadata": {},
   "outputs": [],
   "source": [
    "import os\n",
    "import zipfile\n",
    "import wget"
   ]
  },
  {
   "cell_type": "code",
   "execution_count": 2,
   "metadata": {},
   "outputs": [],
   "source": [
    "import pandas as pd\n",
    "import numpy as np\n",
    "import matplotlib.pyplot as plt"
   ]
  },
  {
   "cell_type": "code",
   "execution_count": 3,
   "metadata": {},
   "outputs": [
    {
     "name": "stdout",
     "output_type": "stream",
     "text": [
      "100% [......................................................................] 277113433 / 277113433"
     ]
    }
   ],
   "source": [
    "if (not os.path.exists('./ml-latest.zip')):\n",
    "    _ = wget.download('http://files.grouplens.org/datasets/movielens/ml-latest.zip')\n",
    "if (not os.path.isdir('./ml-latest')):\n",
    "    zip_ref = zipfile.ZipFile('ml-latest.zip','r')\n",
    "    zip_ref.extractall('./')\n",
    "    zip_ref.close()"
   ]
  },
  {
   "cell_type": "code",
   "execution_count": 4,
   "metadata": {},
   "outputs": [],
   "source": [
    "fpath = './ml-latest/'"
   ]
  },
  {
   "cell_type": "markdown",
   "metadata": {},
   "source": [
    "## Movies"
   ]
  },
  {
   "cell_type": "code",
   "execution_count": 5,
   "metadata": {},
   "outputs": [],
   "source": [
    "df_movie = pd.read_csv(os.path.join(fpath,'movies.csv'))"
   ]
  },
  {
   "cell_type": "code",
   "execution_count": 6,
   "metadata": {},
   "outputs": [
    {
     "data": {
      "text/html": [
       "<div>\n",
       "<style scoped>\n",
       "    .dataframe tbody tr th:only-of-type {\n",
       "        vertical-align: middle;\n",
       "    }\n",
       "\n",
       "    .dataframe tbody tr th {\n",
       "        vertical-align: top;\n",
       "    }\n",
       "\n",
       "    .dataframe thead th {\n",
       "        text-align: right;\n",
       "    }\n",
       "</style>\n",
       "<table border=\"1\" class=\"dataframe\">\n",
       "  <thead>\n",
       "    <tr style=\"text-align: right;\">\n",
       "      <th></th>\n",
       "      <th>movieId</th>\n",
       "      <th>title</th>\n",
       "      <th>genres</th>\n",
       "    </tr>\n",
       "  </thead>\n",
       "  <tbody>\n",
       "    <tr>\n",
       "      <th>0</th>\n",
       "      <td>1</td>\n",
       "      <td>Toy Story (1995)</td>\n",
       "      <td>Adventure|Animation|Children|Comedy|Fantasy</td>\n",
       "    </tr>\n",
       "    <tr>\n",
       "      <th>1</th>\n",
       "      <td>2</td>\n",
       "      <td>Jumanji (1995)</td>\n",
       "      <td>Adventure|Children|Fantasy</td>\n",
       "    </tr>\n",
       "    <tr>\n",
       "      <th>2</th>\n",
       "      <td>3</td>\n",
       "      <td>Grumpier Old Men (1995)</td>\n",
       "      <td>Comedy|Romance</td>\n",
       "    </tr>\n",
       "    <tr>\n",
       "      <th>3</th>\n",
       "      <td>4</td>\n",
       "      <td>Waiting to Exhale (1995)</td>\n",
       "      <td>Comedy|Drama|Romance</td>\n",
       "    </tr>\n",
       "    <tr>\n",
       "      <th>4</th>\n",
       "      <td>5</td>\n",
       "      <td>Father of the Bride Part II (1995)</td>\n",
       "      <td>Comedy</td>\n",
       "    </tr>\n",
       "    <tr>\n",
       "      <th>5</th>\n",
       "      <td>6</td>\n",
       "      <td>Heat (1995)</td>\n",
       "      <td>Action|Crime|Thriller</td>\n",
       "    </tr>\n",
       "    <tr>\n",
       "      <th>6</th>\n",
       "      <td>7</td>\n",
       "      <td>Sabrina (1995)</td>\n",
       "      <td>Comedy|Romance</td>\n",
       "    </tr>\n",
       "    <tr>\n",
       "      <th>7</th>\n",
       "      <td>8</td>\n",
       "      <td>Tom and Huck (1995)</td>\n",
       "      <td>Adventure|Children</td>\n",
       "    </tr>\n",
       "    <tr>\n",
       "      <th>8</th>\n",
       "      <td>9</td>\n",
       "      <td>Sudden Death (1995)</td>\n",
       "      <td>Action</td>\n",
       "    </tr>\n",
       "    <tr>\n",
       "      <th>9</th>\n",
       "      <td>10</td>\n",
       "      <td>GoldenEye (1995)</td>\n",
       "      <td>Action|Adventure|Thriller</td>\n",
       "    </tr>\n",
       "    <tr>\n",
       "      <th>10</th>\n",
       "      <td>11</td>\n",
       "      <td>American President, The (1995)</td>\n",
       "      <td>Comedy|Drama|Romance</td>\n",
       "    </tr>\n",
       "    <tr>\n",
       "      <th>11</th>\n",
       "      <td>12</td>\n",
       "      <td>Dracula: Dead and Loving It (1995)</td>\n",
       "      <td>Comedy|Horror</td>\n",
       "    </tr>\n",
       "    <tr>\n",
       "      <th>12</th>\n",
       "      <td>13</td>\n",
       "      <td>Balto (1995)</td>\n",
       "      <td>Adventure|Animation|Children</td>\n",
       "    </tr>\n",
       "    <tr>\n",
       "      <th>13</th>\n",
       "      <td>14</td>\n",
       "      <td>Nixon (1995)</td>\n",
       "      <td>Drama</td>\n",
       "    </tr>\n",
       "    <tr>\n",
       "      <th>14</th>\n",
       "      <td>15</td>\n",
       "      <td>Cutthroat Island (1995)</td>\n",
       "      <td>Action|Adventure|Romance</td>\n",
       "    </tr>\n",
       "    <tr>\n",
       "      <th>15</th>\n",
       "      <td>16</td>\n",
       "      <td>Casino (1995)</td>\n",
       "      <td>Crime|Drama</td>\n",
       "    </tr>\n",
       "    <tr>\n",
       "      <th>16</th>\n",
       "      <td>17</td>\n",
       "      <td>Sense and Sensibility (1995)</td>\n",
       "      <td>Drama|Romance</td>\n",
       "    </tr>\n",
       "    <tr>\n",
       "      <th>17</th>\n",
       "      <td>18</td>\n",
       "      <td>Four Rooms (1995)</td>\n",
       "      <td>Comedy</td>\n",
       "    </tr>\n",
       "    <tr>\n",
       "      <th>18</th>\n",
       "      <td>19</td>\n",
       "      <td>Ace Ventura: When Nature Calls (1995)</td>\n",
       "      <td>Comedy</td>\n",
       "    </tr>\n",
       "    <tr>\n",
       "      <th>19</th>\n",
       "      <td>20</td>\n",
       "      <td>Money Train (1995)</td>\n",
       "      <td>Action|Comedy|Crime|Drama|Thriller</td>\n",
       "    </tr>\n",
       "  </tbody>\n",
       "</table>\n",
       "</div>"
      ],
      "text/plain": [
       "    movieId                                  title  \\\n",
       "0         1                       Toy Story (1995)   \n",
       "1         2                         Jumanji (1995)   \n",
       "2         3                Grumpier Old Men (1995)   \n",
       "3         4               Waiting to Exhale (1995)   \n",
       "4         5     Father of the Bride Part II (1995)   \n",
       "5         6                            Heat (1995)   \n",
       "6         7                         Sabrina (1995)   \n",
       "7         8                    Tom and Huck (1995)   \n",
       "8         9                    Sudden Death (1995)   \n",
       "9        10                       GoldenEye (1995)   \n",
       "10       11         American President, The (1995)   \n",
       "11       12     Dracula: Dead and Loving It (1995)   \n",
       "12       13                           Balto (1995)   \n",
       "13       14                           Nixon (1995)   \n",
       "14       15                Cutthroat Island (1995)   \n",
       "15       16                          Casino (1995)   \n",
       "16       17           Sense and Sensibility (1995)   \n",
       "17       18                      Four Rooms (1995)   \n",
       "18       19  Ace Ventura: When Nature Calls (1995)   \n",
       "19       20                     Money Train (1995)   \n",
       "\n",
       "                                         genres  \n",
       "0   Adventure|Animation|Children|Comedy|Fantasy  \n",
       "1                    Adventure|Children|Fantasy  \n",
       "2                                Comedy|Romance  \n",
       "3                          Comedy|Drama|Romance  \n",
       "4                                        Comedy  \n",
       "5                         Action|Crime|Thriller  \n",
       "6                                Comedy|Romance  \n",
       "7                            Adventure|Children  \n",
       "8                                        Action  \n",
       "9                     Action|Adventure|Thriller  \n",
       "10                         Comedy|Drama|Romance  \n",
       "11                                Comedy|Horror  \n",
       "12                 Adventure|Animation|Children  \n",
       "13                                        Drama  \n",
       "14                     Action|Adventure|Romance  \n",
       "15                                  Crime|Drama  \n",
       "16                                Drama|Romance  \n",
       "17                                       Comedy  \n",
       "18                                       Comedy  \n",
       "19           Action|Comedy|Crime|Drama|Thriller  "
      ]
     },
     "execution_count": 6,
     "metadata": {},
     "output_type": "execute_result"
    }
   ],
   "source": [
    "df_movie.head(20)"
   ]
  },
  {
   "cell_type": "markdown",
   "metadata": {},
   "source": [
    "## Ratings"
   ]
  },
  {
   "cell_type": "code",
   "execution_count": 7,
   "metadata": {},
   "outputs": [],
   "source": [
    "min_movie_rating = 50\n",
    "min_user_rating = 800"
   ]
  },
  {
   "cell_type": "code",
   "execution_count": 8,
   "metadata": {},
   "outputs": [
    {
     "name": "stdout",
     "output_type": "stream",
     "text": [
      "loading raw rating data..Done\n",
      " 27753444 total rating record loaded\n",
      "\n",
      "283228 users found\n",
      "Raw Rating information aggregated by user\n",
      "               userId  num_movie_rated\n",
      "count  283228.000000    283228.000000\n",
      "mean   141614.500000        97.989761\n",
      "std     81761.025358       212.760722\n",
      "min         1.000000         1.000000\n",
      "25%     70807.750000        15.000000\n",
      "50%    141614.500000        30.000000\n",
      "75%    212421.250000        95.000000\n",
      "max    283228.000000     23715.000000\n",
      "\n",
      "4380 users kept\n",
      "rating information\n",
      "               userId  num_movie_rated\n",
      "count    4380.000000      4380.000000\n",
      "mean   141220.451142      1303.782192\n",
      "std     81310.354156       728.820895\n",
      "min        81.000000       800.000000\n",
      "25%     71052.750000       918.000000\n",
      "50%    139743.000000      1102.500000\n",
      "75%    210135.250000      1412.000000\n",
      "max    283195.000000     23715.000000\n",
      "\n",
      "5710566 rating information kept after inactive userIds removed\n",
      "\n",
      "50407 movies found\n",
      "Raw rating information aggregated by movie\n",
      "              movieId    num_rating\n",
      "count   50407.000000  50407.000000\n",
      "mean   105449.253298    113.289146\n",
      "std     60862.452669    368.956623\n",
      "min         1.000000      1.000000\n",
      "25%     59042.000000      2.000000\n",
      "50%    117702.000000      5.000000\n",
      "75%    157187.000000     33.000000\n",
      "max    193882.000000   4213.000000\n",
      "\n",
      "10713 movies kept\n",
      "5406431 rating information kept after rarely rated movies are removed\n",
      "\n"
     ]
    }
   ],
   "source": [
    "print('loading raw rating data..',end='')\n",
    "rating_df = pd.read_csv(os.path.join(fpath,'ratings.csv'))\n",
    "print('Done\\n {} total rating record loaded\\n'.format(rating_df.shape[0]))\n",
    "\n",
    "#aggregated by user\n",
    "rating_by_user_df = rating_df.groupby('userId', as_index=False).agg({'movieId':[('num_movie_rated','count')]})\n",
    "rating_by_user_df.columns.set_levels([item if item!='' else 'userId' for item in rating_by_user_df.columns.levels[1]],level=1,inplace=True)\n",
    "rating_by_user_df.columns = rating_by_user_df.columns.droplevel(0) #drop first level column name (old column name before aggregation)\n",
    "\n",
    "print('{} users found'.format(rating_by_user_df.shape[0]))\n",
    "print('Raw Rating information aggregated by user\\n {}\\n'.format(rating_by_user_df.describe()))\n",
    "\n",
    "rating_by_user_df = rating_by_user_df[rating_by_user_df['num_movie_rated']>=min_user_rating].reset_index(drop=True)\n",
    "\n",
    "print('{} users kept'.format(rating_by_user_df.shape[0]))\n",
    "print('rating information\\n {}\\n'.format(rating_by_user_df.describe()))\n",
    "\n",
    "rated_userIds = rating_by_user_df['userId'].unique()\n",
    "\n",
    "#remove rating record of the deleted userId\n",
    "rating_df = rating_df[rating_df['userId'].isin(rated_userIds)].reset_index(drop=True)\n",
    "print('{} rating information kept after inactive userIds removed\\n'.format(rating_df.shape[0]))\n",
    "\n",
    "#aggregated by movie\n",
    "rating_by_movie_df = rating_df.groupby('movieId', as_index = False).agg({'userId': [('num_rating', 'count')]})\n",
    "rating_by_movie_df.columns.set_levels([item if item!='' else 'movieId' for item in rating_by_movie_df.columns.levels[1]],level=1,inplace=True)\n",
    "rating_by_movie_df.columns = rating_by_movie_df.columns.droplevel(0)#drop first level column name (old column name before aggregation)\n",
    "\n",
    "nMovie_raw = rating_by_movie_df.shape[0]\n",
    "\n",
    "print('{} movies found'.format(rating_by_movie_df.shape[0]))\n",
    "print('Raw rating information aggregated by movie\\n {}\\n'.format(rating_by_movie_df.describe()))\n",
    "\n",
    "rating_by_movie_df = rating_by_movie_df[rating_by_movie_df['num_rating']>min_movie_rating].reset_index(drop=True)\n",
    "\n",
    "rated_movieIds = rating_by_movie_df['movieId'].unique()\n",
    "\n",
    "#remove rating record of the deleted movieId\n",
    "rating_df = rating_df[rating_df['movieId'].isin(rated_movieIds)].reset_index(drop=True)\n",
    "print('{} movies kept'.format(rating_by_movie_df.shape[0]))\n",
    "print('{} rating information kept after rarely rated movies are removed\\n'.format(rating_df.shape[0]))\n"
   ]
  },
  {
   "cell_type": "code",
   "execution_count": 12,
   "metadata": {},
   "outputs": [],
   "source": [
    "n_movie_kept = rating_by_movie_df.shape[0]\n",
    "n_user_kept = rating_by_user_df.shape[0]"
   ]
  },
  {
   "cell_type": "code",
   "execution_count": 13,
   "metadata": {},
   "outputs": [
    {
     "name": "stdout",
     "output_type": "stream",
     "text": [
      "rating matrix density =    11.52%\n"
     ]
    }
   ],
   "source": [
    "print('rating matrix density = %8.2f%%' % (100*rating_df.shape[0]/n_movie_kept/n_user_kept))"
   ]
  },
  {
   "cell_type": "code",
   "execution_count": 14,
   "metadata": {},
   "outputs": [],
   "source": [
    "userId_old2new = dict(zip(rated_userIds,list(range(len(rated_userIds)))))\n",
    "movieId_old2new = dict(zip(rated_movieIds,list(range(len(rated_movieIds)))))"
   ]
  },
  {
   "cell_type": "markdown",
   "metadata": {},
   "source": [
    "## Export Lean version of MovieLens latest dataset"
   ]
  },
  {
   "cell_type": "code",
   "execution_count": 15,
   "metadata": {},
   "outputs": [],
   "source": [
    "if (not os.path.isdir('./ml-latest-lean')):\n",
    "    os.makedirs('./ml-latest-lean')\n",
    "flean_path = './ml-latest-lean'"
   ]
  },
  {
   "cell_type": "markdown",
   "metadata": {},
   "source": [
    "### export movies.csv"
   ]
  },
  {
   "cell_type": "code",
   "execution_count": 16,
   "metadata": {},
   "outputs": [],
   "source": [
    "df_movie = pd.read_csv(os.path.join(fpath,'movies.csv'))\n",
    "df_movie = df_movie[df_movie['movieId'].isin(rated_movieIds)].reset_index(drop=True)\n",
    "df_movie['movieId'] = df_movie['movieId'].apply(lambda x: movieId_old2new[x])"
   ]
  },
  {
   "cell_type": "code",
   "execution_count": 17,
   "metadata": {},
   "outputs": [],
   "source": [
    "df_movie['title'] = df_movie['title'].apply(lambda x: x.strip())\n",
    "df_movie['title'] = df_movie['title'].apply(lambda x: x if x[-1]!=')' else x[:-7])"
   ]
  },
  {
   "cell_type": "code",
   "execution_count": 21,
   "metadata": {},
   "outputs": [],
   "source": [
    "df_movie.to_csv(os.path.join(flean_path,'movies.csv'), index = False)"
   ]
  },
  {
   "cell_type": "markdown",
   "metadata": {},
   "source": [
    "### export links.csv"
   ]
  },
  {
   "cell_type": "code",
   "execution_count": 22,
   "metadata": {},
   "outputs": [],
   "source": [
    "df_links = pd.read_csv(os.path.join(fpath,'links.csv'))\n",
    "df_links = df_links[df_links['movieId'].isin(rated_movieIds)].reset_index(drop=True)\n",
    "df_links['movieId'] = df_links['movieId'].apply(lambda x: movieId_old2new[x])"
   ]
  },
  {
   "cell_type": "code",
   "execution_count": 23,
   "metadata": {},
   "outputs": [],
   "source": [
    "df_links.to_csv(os.path.join(flean_path, 'links.csv'), index = False)"
   ]
  },
  {
   "cell_type": "markdown",
   "metadata": {},
   "source": [
    "### export tags.csv"
   ]
  },
  {
   "cell_type": "code",
   "execution_count": 25,
   "metadata": {},
   "outputs": [],
   "source": [
    "df_tags = pd.read_csv(os.path.join(fpath,'tags.csv'))\n",
    "df_tags = df_tags[df_tags['movieId'].isin(rated_movieIds)].reset_index(drop=True)\n",
    "df_tags = df_tags[df_tags['userId'].isin(rated_userIds)].reset_index(drop=True)\n",
    "\n",
    "df_tags['movieId'] = df_tags['movieId'].apply(lambda x: movieId_old2new[x])\n",
    "df_tags['userId'] = df_tags['userId'].apply(lambda x: userId_old2new[x])"
   ]
  },
  {
   "cell_type": "code",
   "execution_count": 26,
   "metadata": {},
   "outputs": [],
   "source": [
    "df_tags.to_csv(os.path.join(flean_path,'tags.csv'), index = False)"
   ]
  },
  {
   "cell_type": "code",
   "execution_count": 27,
   "metadata": {},
   "outputs": [],
   "source": [
    "df_tags.to_pickle(os.path.join(flean_path,'tags.pickle'))"
   ]
  },
  {
   "cell_type": "markdown",
   "metadata": {},
   "source": [
    "### export ratings.csv"
   ]
  },
  {
   "cell_type": "code",
   "execution_count": 28,
   "metadata": {},
   "outputs": [],
   "source": [
    "rating_df['movieId'] = rating_df['movieId'].apply(lambda x: movieId_old2new[x])\n",
    "rating_df['userId'] = rating_df['userId'].apply(lambda x: userId_old2new[x])"
   ]
  },
  {
   "cell_type": "code",
   "execution_count": 38,
   "metadata": {},
   "outputs": [],
   "source": [
    "rating_df.to_csv(os.path.join(flean_path,'ratings.zip'), index = False, compression='gzip')"
   ]
  },
  {
   "cell_type": "markdown",
   "metadata": {},
   "source": [
    "### export readme.md"
   ]
  },
  {
   "cell_type": "code",
   "execution_count": 44,
   "metadata": {},
   "outputs": [],
   "source": [
    "with open(os.path.join(flean_path,'readme.md'),'w') as f:\n",
    "    f.write('# Lean Version of MovieLens-latest dataset\\n')\n",
    "    f.write(f'''This movielens dataset is created based on the ml-latest dataset. \n",
    "    Only the users that give >{min_user_rating} rating and movies that received >{min_movie_rating} rating are kept.\n",
    "    After cleaning, {rating_df.shape[0]} rating information for {n_movie_kept} movies by {n_user_kept} users are kept.\n",
    "    The rating matrix density is {100*rating_df.shape[0]/n_movie_kept/n_user_kept}%.\\n''')\n",
    "    f.write('\\n\\n\\n')\n",
    "    f.write('## Load data\\n')\n",
    "    f.write('movies.csv, tags.csv and links.csv are saved in plain csv format and can be directly.\\n')\n",
    "    f.write('ratings.zip is saved as a gzip csv file. It can be read by two methods:\\n')\n",
    "    f.write('* unzip the file and obtain a plain csv file, and read the csv file.\\n')\n",
    "    f.write('* use pandas.read_csv with the keyword compression set to be \"gzip\"\\n')\n",
    "    "
   ]
  },
  {
   "cell_type": "code",
   "execution_count": null,
   "metadata": {},
   "outputs": [],
   "source": []
  }
 ],
 "metadata": {
  "kernelspec": {
   "display_name": "Python 3",
   "language": "python",
   "name": "python3"
  },
  "language_info": {
   "codemirror_mode": {
    "name": "ipython",
    "version": 3
   },
   "file_extension": ".py",
   "mimetype": "text/x-python",
   "name": "python",
   "nbconvert_exporter": "python",
   "pygments_lexer": "ipython3",
   "version": "3.6.9"
  }
 },
 "nbformat": 4,
 "nbformat_minor": 2
}
